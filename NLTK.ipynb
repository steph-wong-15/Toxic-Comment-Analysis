{
 "cells": [
  {
   "cell_type": "markdown",
   "metadata": {
    "tags": []
   },
   "source": [
    "<div class=\"alert alert-danger\">\n",
    "    <h3>NOTE</h3>\n",
    "    <p>Before you submit this assignment, <strong>make sure everything runs as expected</strong>:</p>\n",
    "    <ol>\n",
    "        <li><strong>restart the kernel</strong> (in the menubar, select <strong>Kernel → Restart</strong>)\n",
    "        <li><strong>run all cells</strong> (in the menubar, select <strong>Cell → Run All</strong>)</li>\n",
    "    </ol>\n",
    "    <p>Make sure to complete every cell that states \"<strong><TT>YOUR CODE IN THIS CELL</TT></strong>\".</p>\n",
    "</div>"
   ]
  },
  {
   "cell_type": "markdown",
   "metadata": {
    "tags": []
   },
   "source": [
    "---"
   ]
  },
  {
   "cell_type": "markdown",
   "metadata": {
    "tags": []
   },
   "source": [
    "<div class=\"alert alert-warning\">\n",
    "    <h2>CHANGELOG</h2>\n",
    "    <h3>A3-V4.ipynb</h3>\n",
    "    <p>Nov 24, 2021</br>\n",
    "    The following revisions have been added to <strong>A3-V3.ipynb</strong>.</p>\n",
    "    <ul>\n",
    "        <li>added code cell to <em>Evaluation</em> & <em>Discussion</em> sections of the <strong>Project Report</strong> for demonstrating visualization capabilities</li>\n",
    "        <li>added additional comment steps to <strong>Language Model</strong> task</li>\n",
    "        <li>updated marks for <strong>Language Model</strong> task</li>\n",
    "        <li>added <strong>PRO TIPS</strong> throughout document</li>\n",
    "        <li>updated pseudocode for <strong>Extract Features From Dataset</strong></li>\n",
    "        <li>added comments to <strong>Decision Tree</strong> task</li>\n",
    "        <li>added explanation (from <strong>Discord</strong>) of <strong>Extract Features From Dataset</strong> task</li>\n",
    "        <li>added regression and classification implementations to each model</li>\n",
    "        <li>added <strong>Plotting & Visualizations</strong> subsection</li>\n",
    "        <li>added explanation (from <strong>Discord</strong>) of <strong>What You Are Being Asked To Do</strong> subsection</li>\n",
    "        <!-- <li></li> -->\n",
    "    </ul>\n",
    "</div>"
   ]
  },
  {
   "cell_type": "markdown",
   "metadata": {
    "tags": []
   },
   "source": [
    "<div class=\"alert alert-warning\">\n",
    "    <h3>A3-V3.ipynb</h3>\n",
    "    <p>Nov 19, 2021</br>\n",
    "    The following revisions have been added to <strong>A3-V2.ipynb</strong>.</p>\n",
    "    <p>Extract Features From Dataset:\n",
    "    <ul>\n",
    "        <li>updated description of <strong>Extract Features From Dataset</strong></li>\n",
    "        <li>updated how many marks <strong>Extract Features From Dataset</strong> is out of</li>\n",
    "        <li>provided a breakdown of the marks in <strong>Extract Features From Dataset</strong></li>\n",
    "        <li>added code examples to <strong>Extract Features From Dataset</strong></li>\n",
    "    </ul>\n",
    "    <p>Miscellaneous:\n",
    "    <ul>\n",
    "        <li>marking rubric updated for some <strong>Tasks</strong> (but not yet finalized)</li>\n",
    "        <li>added comments for all EXAMPLE CODE to be commented out</li>\n",
    "        <li>added comments for removing <tt>raise NotImplementedError()</tt> once the code cell has begun being implemented</li>\n",
    "        <li>new <strong>TODOs</strong> added (these are for the instructor to complete)</li>\n",
    "    </ul>\n",
    "    </p>\n",
    "</div>"
   ]
  },
  {
   "cell_type": "markdown",
   "metadata": {
    "tags": []
   },
   "source": [
    "<div class=\"alert alert-warning\">\n",
    "    <h3>A3-V2.ipynb</h3>\n",
    "    <p>Nov 18, 2021</br>\n",
    "    The following revisions have been added to <strong>A3-V1.ipynb</strong>:</p>\n",
    "    <ul>\n",
    "        <li>added <strong>Changelog</strong></li>\n",
    "        <li>added code and a description to the <strong>Decision Tree</strong></li>\n",
    "    <li>added code to the <strong>Voting Ensemble</strong></li>\n",
    "        <li>added code for <strong>SVM Classifier</strong></li>\n",
    "        <li>added code for <strong>Decision Tree Classifier</strong></li>\n",
    "        <li>added to the <strong>Overview</strong> section to compare the task to other tasks</li>\n",
    "        <li>updated code description for <strong>n-gram Language Model</strong></li>\n",
    "        <li>added new dataset from just announced <strong>Kaggle</strong> competition on identifying toxic comments  <strong>→</strong>  <strong>$50,000</strong></li>\n",
    "        <li>transitioned to new evaluation metric taken from the just announced <strong>Kaggle</strong> competition on identifying toxic comments</li>\n",
    "        <li>changed font to light gray color for the <strong>Toxic Comments Dataset (OLD COMPETITION)</strong> since this dataset isn't the one provided by the new competition</li>\n",
    "    </ul>\n",
    "</div>"
   ]
  },
  {
   "cell_type": "markdown",
   "metadata": {
    "jp-MarkdownHeadingCollapsed": true,
    "tags": []
   },
   "source": [
    "<div class=\"alert alert-danger\">\n",
    "    <h4><strong>TODO</strong></h4>\n",
    "    <p>The following items need to be included by the instructor in this assignment:</p>\n",
    "    <ul>\n",
    "        <li>marking rubric not finalized</li>\n",
    "        <li>need to add code to <strong>Neural Network</strong></li>\n",
    "        <li>the evaluation description for the original <strong>Idenifying Toxic Comments</strong> competition needs to be updated to use the evaluation from the new <strong>Idenifying Toxic Comments</strong> competition</li>\n",
    "        <li>code needs to be provided in the <strong>Evaluation</strong> from the new <strong>Idenifying Toxic Comments</strong> competition</li>\n",
    "        <li>add example code to <strong>Plotting & Visualizations</strong> subsection</li>\n",
    "    </ul>\n",
    "</div>"
   ]
  },
  {
   "cell_type": "markdown",
   "metadata": {
    "tags": []
   },
   "source": [
    "---\n",
    "# Assignment #3: Version 3\n",
    "### CMPT-310: Fall 2021\n",
    "\n",
    "\n",
    "**NOTE:** Complete **Quiz #4** prior to beginning this assignment."
   ]
  },
  {
   "cell_type": "markdown",
   "metadata": {
    "tags": []
   },
   "source": [
    "## Objectives\n",
    "\n",
    "* access a *real-world* dataset (e.g., used in **kaggle.com** competitions, etc.) rather than a *toy* dataset\n",
    "* implement a variety of machine learning models\n",
    "* download and apply *pre-trained machine learning models*\n",
    "* develop and evaluate ensembles of models\n",
    "* evaluate different machine learning models on *complex* real-world tasks\n",
    "* work with a variety of industry-standard machine learning libraries (*Tensorflow*, *PyTorch*, *sklearn*, *NLTK*, etc.)\n",
    "* visually communicate data and experimental results"
   ]
  },
  {
   "cell_type": "markdown",
   "metadata": {
    "tags": []
   },
   "source": [
    "### Instructions\n",
    "\n",
    "Write your **code** in the *code cells* located directly below each red *Write Code* block.\\\n",
    "Write your **text** in the *Markdown cells* that follow every **Task** description below. Also complete this Notebook's **Final Report** section."
   ]
  },
  {
   "cell_type": "markdown",
   "metadata": {},
   "source": [
    "<div class=\"alert alert-info\">\n",
    "    <h4>PRO TIP</h4>\n",
    "    <p>The best approach to this assignment is to work on <strong>one task at a time</strong>. Treat each task as a step toward a destination.</p>\n",
    "</div>"
   ]
  },
  {
   "cell_type": "markdown",
   "metadata": {
    "tags": []
   },
   "source": [
    "------\n",
    "## Preliminaries & Dependencies\n",
    "\n",
    "You will require the following **Python** packages to complete this assignment (it is likely many of these libraries are already installed via **Anaconda**, **Quiz #4**, etc.):\n",
    "* matplotlib\n",
    "* numpy\n",
    "* sklearn\n",
    "* tensorflow\n",
    "* tensorflow-datasets\n",
    "* seaborn\n",
    "* nltk\n",
    "\n",
    "\n",
    "### Imports\n",
    "\n",
    "Import the following libraries."
   ]
  },
  {
   "cell_type": "code",
   "execution_count": 48,
   "metadata": {
    "tags": []
   },
   "outputs": [],
   "source": [
    "import tensorflow as tf\n",
    "import numpy as np\n",
    "import pandas as pd\n",
    "import matplotlib as mpl\n",
    "import IPython.display as display\n",
    "import seaborn\n",
    "import sklearn\n",
    "import nltk\n",
    "import warnings\n",
    "warnings.filterwarnings('ignore')"
   ]
  },
  {
   "cell_type": "markdown",
   "metadata": {
    "tags": []
   },
   "source": [
    "---\n",
    "## Cross Validation Of A Dataset\n",
    "\n",
    "The following example code demonstrates using the builtin cross validation module from the [**Scikit-Learn** library](https://scikit-learn.org/stable/modules/cross_validation.html).\\\n",
    "You will likely use a variation of the following code for all of the models you will be evaluating."
   ]
  },
  {
   "cell_type": "code",
   "execution_count": 49,
   "metadata": {},
   "outputs": [
    {
     "data": {
      "text/plain": [
       "((150, 4), (150,))"
      ]
     },
     "execution_count": 49,
     "metadata": {},
     "output_type": "execute_result"
    }
   ],
   "source": [
    "# EXAMPLE CODE: COMMENT OUT THIS CODE CELL AFTER IMPLEMENTING YOUR CODE\n",
    "\n",
    "# Code from:  https://scikit-learn.org/stable/modules/cross_validation.html\n",
    "\n",
    "import numpy as np\n",
    "from sklearn.model_selection import train_test_split\n",
    "from sklearn import datasets\n",
    "from sklearn import svm\n",
    "\n",
    "# X = inputs or features of the data\n",
    "# y = output values from the data that we are trying to predict\n",
    "X, y = datasets.load_iris(return_X_y=True)\n",
    "\n",
    "X.shape, y.shape # shape displays the dimensions of the matrices"
   ]
  },
  {
   "cell_type": "code",
   "execution_count": 50,
   "metadata": {},
   "outputs": [
    {
     "name": "stdout",
     "output_type": "stream",
     "text": [
      "(120, 4) (120,)\n",
      "(30, 4) (30,)\n",
      "The performance of one run of the SVM model: 1.0\n"
     ]
    }
   ],
   "source": [
    "# EXAMPLE CODE: COMMENT OUT THIS CODE CELL AFTER IMPLEMENTING YOUR CODE\n",
    "\n",
    "# Train the model using 80% of the dataset then test (evaluate) the model on the other 20% of the dataset\n",
    "X_train, X_test, y_train, y_test = train_test_split(X, y, test_size=0.2, random_state=0)\n",
    "\n",
    "# shape displays the dimensions of the matrices\n",
    "print(X_train.shape, y_train.shape)\n",
    "print(X_test.shape, y_test.shape)\n",
    "\n",
    "clf = svm.SVC(kernel='linear', C=1).fit(X_train, y_train)\n",
    "score = clf.score(X_test, y_test)\n",
    "print(\"The performance of one run of the SVM model:\", score)"
   ]
  },
  {
   "cell_type": "code",
   "execution_count": 51,
   "metadata": {},
   "outputs": [
    {
     "name": "stdout",
     "output_type": "stream",
     "text": [
      "Scores for the 5 runs of the SVM model: [0.96666667 1.         0.96666667 0.96666667 1.        ]\n",
      "0.98 accuracy with a standard deviation of 0.02\n"
     ]
    }
   ],
   "source": [
    "# EXAMPLE CODE: COMMENT OUT THIS CODE CELL AFTER IMPLEMENTING YOUR CODE\n",
    "\n",
    "from sklearn.model_selection import cross_val_score\n",
    "\n",
    "clf = svm.SVC(kernel='linear', C=1, random_state=42)\n",
    "\n",
    "scores = cross_val_score(clf, X, y, cv=5)\n",
    "print(\"Scores for the 5 runs of the SVM model:\", scores)\n",
    "print(\"%0.2f accuracy with a standard deviation of %0.2f\" % (scores.mean(), scores.std()))"
   ]
  },
  {
   "cell_type": "markdown",
   "metadata": {
    "tags": []
   },
   "source": [
    "----\n",
    "## Task: New Toxic Comments Dataset   (5 Marks)\n",
    "\n",
    "See https://www.kaggle.com/c/jigsaw-toxic-severity-rating.\n",
    "\n",
    "From [**Kaggle**](https://www.kaggle.com/c/jigsaw-toxic-severity-rating/data):\n",
    "> In this competition you will be ranking comments in order of severity of toxicity. You are given a list of comments, and each comment should be scored according to their relative toxicity. Comments with a higher degree of toxicity should receive a higher numerical value compared to comments with a lower degree of toxicity.\n",
    "> \n",
    "> **Disclaimer:** The dataset for this competition contains text that may be considered *profane, vulgar, or offensive*.\n",
    "\n",
    "\n",
    "\n",
    "\n",
    "### Data Description\n",
    "\n",
    "\"*Your task is to predict a score that represents the relative toxic severity of the comment. Comments with a higher degree of toxicity should receive a higher numerical value compared to comments with a lower degree of toxicity; scores are relative, and not constrained to a certain range of values.*\"\n",
    "\n",
    "> Note, there is no training data for this competition. You can refer to previous Jigsaw competitions for data that might be useful to train models. But note that the task of previous competitions has been to predict the probability that a comment was toxic, rather than the degree or severity of a comment's toxicity.\n",
    "> \n",
    "> **Toxic Comment Classification Challenge**\\\n",
    "> **Jigsaw Unintended Bias in Toxicity Classification**\\\n",
    "> **Jigsaw Multilingual Toxic Comment Classification**\n",
    "> \n",
    "> While we don't include training data, we do provide a set of paired toxicity rankings that can be used to validate models.\n",
    "> \n",
    "> #### Files\n",
    "> \n",
    "> **comments_to_score.csv** - for each comment text in this file, your task is to predict a score that represents the relative toxic severity of the comment. Comments with a higher degree of toxicity should receive a higher numerical value compared to comments with a lower degree of toxicity; scores are relative, and not constrained to a certain range of values. NOTE: the rerun version of this file has ~14k comments that will be scored by your submitted model.\\\n",
    "> **sample_submission.csv** - a sample submission file in the correct format\\\n",
    "> **validation_data.csv** - pair rankings that can be used to validate models; this data includes the annotator worker id, and how that annotator ranked a given pair of comments; note, this data contains comments that are not found in comments_to_score.\n",
    "\n",
    "\n",
    "### What You Are Being Asked To Do\n",
    "\n",
    "(A version of this is posted on **Discord**)\n",
    "\n",
    "The file `validation_data.csv` has examples of comment pairs for you to test your model against (*I don't recommend reading the toxic comments though!*).\n",
    "\n",
    "![Contents of validation_data.csv file.](./images/Toxic-comment-database-examples.png)\n",
    "\n",
    "The above image shows the first few rows of the `validation_data.csv` file. Each row contains a pair of comments. The column on the right contains comments that are more toxic than the comments in the left column. The comment pairs in the `validation_data.csv` file was ranked by human annotators.\n",
    "\n",
    "Our job is to provide every comment with a **toxicity score**. To check how accurate our scoring was, two random comments are selected and we compare which comment was identifed to be more toxic.\n",
    "\n",
    "An example of what you are being asked to do:\n",
    "* give your model the comment `This article sucks woo woo wooooooo`, which the model assigns the comment a **toxicity score** (say a score of 20)\n",
    "* give your model another comment  such as `WHAT!!!!!!!!?!?!!?!?!!?!?!?!?!!!!!!!!!!!!!!!!!!!!!!!!???????????????????????????????????????????????...`, which the model assigns the comment a **toxicity score** (say a score of 50)\n",
    "* continue scoring *all* of the comments in `comments_to_score.csv`\n",
    "* in the competition, **Kaggle** will take the scores and compare them to two of the comments that humans determined which was more toxic\n",
    "* if your scoring matches the human rankings (i.e., the \"*more toxic*\" comment gets a higher score than the \"*less toxic*\" comment) then the model got that comparison correct"
   ]
  },
  {
   "cell_type": "markdown",
   "metadata": {},
   "source": [
    "<font color=lightgray>\n",
    "    \n",
    "## Task: Toxic Comments Dataset   (OLD COMPETITION)\n",
    "\n",
    "**Kaggle** has a competition identifying *toxic comments*.\\\n",
    "See https://www.kaggle.com/c/jigsaw-toxic-comment-classification-challenge.\n",
    "\n",
    "From **Kaggle**'s website:\n",
    "> ...tools to help improve online conversation. One area of focus is the study of negative online behaviors, like toxic comments (i.e. comments that are rude, disrespectful or otherwise likely to make someone leave a discussion). So far they’ve built a range of publicly available models served through the Perspective API, including toxicity. But the current models still make errors, and they don’t allow users to select which types of toxicity they’re interested in finding (e.g. some platforms may be fine with profanity, but not with other types of toxic content).\n",
    "> \n",
    "> In this competition, you’re challenged to build a multi-headed model that’s capable of detecting different types of of toxicity like threats, obscenity, insults, and identity-based hate better than Perspective’s current models. You’ll be using a dataset of comments from Wikipedia’s talk page edits. Improvements to the current model will hopefully help online discussion become more productive and respectful.\n",
    "> \n",
    "> **Disclaimer:** the dataset for this competition contains text that may be considered *profane*, *vulgar*, or *offensive*.\n",
    "\n",
    "### Data Description\n",
    "\n",
    "From **Kaggle**:\n",
    "> You are provided with a large number of Wikipedia comments which have been labeled by human raters for toxic behavior. The types of toxicity are:\n",
    "> * toxic\n",
    "> * severe_toxic\n",
    "> * obscene\n",
    "> * threat\n",
    "> * insult\n",
    "> * identity_hate\n",
    ">\n",
    "> You must create a model which predicts a probability of each type of toxicity for each comment.\n",
    "> \n",
    "> File Descriptions:\n",
    "> * **train.csv** - the training set, contains comments with their binary labels\n",
    "> * **test.csv** - the test set, you must predict the toxicity probabilities for these comments. To deter hand labeling, the test set contains some comments which are not included in scoring.\n",
    "> * **sample_submission.csv** - a sample submission file in the correct format\n",
    "> * **test_labels.csv** - labels for the test data; value of -1 indicates it was not used for scoring; (Note: file added after competition close!)\n",
    "\n",
    "Our **goal** is to predict for each comment the *probability* of each type of toxicity.\n",
    "This is a multi-class classification task (i.e., *more than two categories, more than two labels, more than two classes*, etc.)."
   ]
  },
  {
   "cell_type": "markdown",
   "metadata": {
    "tags": []
   },
   "source": [
    "### Download The Datasets\n",
    "\n",
    "Download the datasets from **Kaggle** (under the **Data** tab):\\\n",
    "[old dataset - \"Toxic Comment Classification Challenge\"](https://www.kaggle.com/c/jigsaw-toxic-comment-classification-challenge/data)\\\n",
    "[new dataset - \"Jigsaw Rate Severity of Toxic Comments\"](https://www.kaggle.com/c/jigsaw-toxic-severity-rating/data)\n",
    "\n",
    "Or download the dataset from **Canvas** under **Files** > **Data**:\\\n",
    "[Kaggle-Toxic-Comments-Dataset (OLD)](https://canvas.sfu.ca/files/17538324/download?download_frd=1)\\\n",
    "[Kaggle-Toxic-Comments-Dataset (NEW)](https://canvas.sfu.ca/files/17622704/download?download_frd=1) is the dataset we will be using to evaluate our model."
   ]
  },
  {
   "cell_type": "markdown",
   "metadata": {},
   "source": [
    "----\n",
    "<div class=\"alert alert-info\">\n",
    "    <h4>PRO TIP</h4>\n",
    "    <p>Extract at least one or two features before implementing any of the models.</p>\n",
    "</div>"
   ]
  },
  {
   "cell_type": "markdown",
   "metadata": {
    "tags": []
   },
   "source": [
    "## Task: Extract Features From Dataset   (40 Marks)\n",
    "\n",
    "Use **NLTK** to extract **features** from the **Toxic Comments** dataset.\\\n",
    "The **features** will be used to train various Machine Learning models to identify toxic comments.\n",
    "\n",
    "Possible **features** to extract:\n",
    "* check if a word is in a list of swear words, or a list of words that are hate speech\n",
    "* check if punctuation is used in the *body* of a word rather than at the end of the sentence\n",
    "* check if words such as `a$$` are used where letters are replaced by visually similar symbols\n",
    "* sentence length i.e., how many words a sentence has\n",
    "* average word length in a sentence\n",
    "* unusually high number of exclamation marks, which could represent the author being frustrated or angry\n",
    "* etc.\n",
    "\n",
    "\n",
    "### Transforming Data Into Features\n",
    "\n",
    "We represent the data as matrices/vectors. So we are transforming the dataset into a matrix representation. None of the models accept text input! Example:\\\n",
    "`X = [[0, 0], [1, 3], [2, 0], [3, 1]]`\\\n",
    "`Y = [0, 1, 2, 3]`\n",
    "\n",
    "`X` is a features matrix.\n",
    "`Y` is a matrix of the target classes/output the model is trying to predict. In this case we have four classes `[0, 1, 2, 3]`. The actual classes could be non-toxic, toxic, very toxic, and extremely toxic, but we have to replace them by a number.\n",
    "\n",
    "In `X` we have four samples/datapoints/examples, the first being `[0, 0]`. Each column in the sample corresponds to a feature.\\\n",
    "For example, the first column could be number of swear words in comment and the 2nd column could be percentage of capitalized letters in a comment. In matrix entry form:\\\n",
    "`[number of swear words in comment, percentage of capitalized letters in a comment]`\\\n",
    "Thus `[0, 0]` would correspond to a comment with zero swear words and zero capitalized letters.\n",
    "\n",
    "\n",
    "### Rubric\n",
    "\n",
    "We will be evaluating this section in part by how clever your choice of features were (and that you were able to extract them).\n",
    "Simple sets of features may not be as informative as complex setds of features, but simple features are easier to extract from a dataset compared to complex features.\n",
    "\n",
    "A breakdown of the marking for this task:\n",
    "* [**10 marks**] basic features gathered (trivial)\n",
    "* [**25 marks**] quality features gathered (advanced), corresponding to unusual features or clever features most would not have considered\n",
    "* [**5 marks**] formatting the features and output correctly so it can be used immediately downstream for the machine learning classifiers without any further preprocessing needing to be done at that stage"
   ]
  },
  {
   "cell_type": "code",
   "execution_count": 52,
   "metadata": {},
   "outputs": [
    {
     "name": "stdout",
     "output_type": "stream",
     "text": [
      "Is 'hat' in the wordlist? True\n",
      "Is 'Hat' in the wordlist? False\n"
     ]
    }
   ],
   "source": [
    "# EXAMPLE CODE: check if a word is in a list of words\n",
    "list_of_words = [\"house\", \"hat\", \"war\"]\n",
    "word = \"hat\"\n",
    "print(\"Is 'hat' in the wordlist?\", word in list_of_words)\n",
    "\n",
    "word = \"Hat\"\n",
    "print(\"Is 'Hat' in the wordlist?\", word in list_of_words)"
   ]
  },
  {
   "cell_type": "code",
   "execution_count": 53,
   "metadata": {},
   "outputs": [
    {
     "name": "stdout",
     "output_type": "stream",
     "text": [
      "Is '?' in the characterlist? True\n",
      "Is '\\n' (newline) in the characterlist? True\n"
     ]
    }
   ],
   "source": [
    "# EXAMPLE CODE: check if a character is in a list of characters\n",
    "character_string = '?.\",!@$%^&*()\\n' # using a String as if it were a list\n",
    "character = \"?\"\n",
    "print(\"Is '?' in the characterlist?\", character in character_string)\n",
    "\n",
    "character = \"\\n\"\n",
    "print(\"Is '\\\\n' (newline) in the characterlist?\", character in character_string)"
   ]
  },
  {
   "cell_type": "code",
   "execution_count": 54,
   "metadata": {},
   "outputs": [],
   "source": [
    "# EXAMPLE CODE: for more code fragments that may be useful\n",
    "#               check the Discord server (I will not be adding new snippets to this Task here)"
   ]
  },
  {
   "cell_type": "markdown",
   "metadata": {},
   "source": [
    "<div class=\"alert alert-danger\">\n",
    "    <h4>WRITE CODE</h4>\n",
    "    In the cell below, write the code that extracts features from the dataset.\n",
    "</div>"
   ]
  },
  {
   "cell_type": "code",
   "execution_count": 74,
   "metadata": {},
   "outputs": [],
   "source": [
    "# YOUR CODE IN THIS CELL\n",
    "\n",
    "# read dataset from file\n",
    "\n",
    "# validation data\n",
    "valid_data = pd.read_csv('validation_data.csv')\n",
    "# old training data\n",
    "train_data = pd.read_csv('train.csv')\n",
    "# comments to score\n",
    "comments = pd.read_csv('comments_to_score.csv')\n",
    "\n",
    "# iterate over each data sample in the dataset\n",
    "# extract features from each data sample\n",
    "\n",
    "# checks if there are swear words in a comment\n",
    "#for swear in swear_words:\n",
    "    #swear_comments = comments.loc[comments['text'].str.contains(swear, case=True)] \n",
    "    #swear_comments = comments.loc[comments['text'].str.count(swear) > 0]\n",
    "\n",
    "swear_words = ['fuck', 'damn', 'shit', 'bitch','ass', 'cock','cunt', 'faggot', 'FUCK', 'DAMN', 'SHIT', 'BITCH', 'ASS'\n",
    "              'COCK', 'CUNT', 'FAGGOT']\n",
    "\n",
    "# checks number of swear words in a comment\n",
    "for swear in swear_words:\n",
    "    comments[swear] = comments.text.str.count(swear)\n",
    "\n",
    "# prepare the features in the correct format\n",
    "\n",
    "# sums the total number of swear words\n",
    "comments['total']= comments.iloc[:, 2:].sum(axis=1)\n",
    "\n",
    "# check if ! is included\n",
    "comments['exclaim'] = comments.text.str.count('!')\n",
    "\n",
    "# scale the features and outputs in the range [0-1]\n",
    "# do if necessary\n",
    "\n",
    "# prepare output values in the correct format\n",
    "\n",
    "X_comments = comments[['total','exclaim']].values.tolist()\n",
    "\n",
    "### calculate features and toxicity score from old dataset ###\n",
    "\n",
    "# checks number of swear words in a comment\n",
    "for swear in swear_words:\n",
    "    train_data[swear] = train_data.comment_text.str.count(swear)\n",
    "\n",
    "# sums the total number of swear words\n",
    "train_data['total']= train_data.iloc[:, 8:].sum(axis=1)\n",
    "\n",
    "# check if ! is included\n",
    "train_data['exclaim'] = train_data.comment_text.str.count('!')\n",
    "\n",
    "# prepare the features in the correct format\n",
    "\n",
    "train_list = train_data[['total','exclaim']].values.tolist()\n",
    "\n",
    "# multiply columns by weights\n",
    "train_data['toxic'] = train_data['toxic']*1\n",
    "train_data['severe_toxic'] = train_data['severe_toxic']*10\n",
    "train_data['obscene'] = train_data['obscene']*5\n",
    "train_data['threat'] = train_data['threat']*20\n",
    "train_data['insult'] = train_data['insult']*5\n",
    "train_data['identity_hate'] = train_data['identity_hate']*10\n",
    "\n",
    "# sum to get toxicity score\n",
    "train_data['tox_score'] = train_data['toxic']+train_data['severe_toxic']+train_data['obscene']+train_data['threat']+train_data['insult']+train_data['identity_hate']"
   ]
  },
  {
   "cell_type": "markdown",
   "metadata": {},
   "source": [
    "----\n",
    "<div class=\"alert alert-info\">\n",
    "    <h4>PRO TIP</h4>\n",
    "    Classifiers take two arrays as input: <strong>array X</strong> and <strong>array y</strong>.</br>\n",
    "    <strong>array X</strong> has shape <tt>(number_of_samples, number_of_features)</tt> containing the training samples feature data</br>\n",
    "    <strong>array y</strong> of class labels/outputs (strings or integers) has shape <tt>(number_of_samples)</tt></p>\n",
    "    <p></p>\n",
    "    <p style=\"text-indent:0px\"><tt>print(photos.shape, labels.shape)</br>\n",
    "    num_samples = labels.shape[0]<br>\n",
    "    x = np.reshape(photos, (num_samples, -1))<tt></p>\n",
    "</div>"
   ]
  },
  {
   "cell_type": "markdown",
   "metadata": {},
   "source": [
    "## Task: Decision Tree   (5 Marks)\n",
    "\n",
    "Build a *decision tree* model to identify toxic comments.\n",
    "\n",
    "From Norvig & Russel's \"*AI: A Modern Approach*\" (pg. 707, 3rd ed.):\n",
    "> In many areas of industry and commerce, decision trees are usually the first method tried when a classification method is to be extracted from a data set. One important property of decision trees is that it is possible for a human to understand the reason for the output of the learning algorithm. (Indeed, this is a legal requirement for financial decisions that are subject to anti-discrimination laws.) This is a property not shared by some other representations, such as neural networks.\n",
    "\n",
    "From https://scikit-learn.org/stable/modules/tree.html:\n",
    "> `DecisionTreeClassifier` is capable of both:\n",
    "> * **binary classification** where the labels are `[-1, 1]`\n",
    "> * **multiclass classification** where the labels are `[0, ..., K-1]`\n",
    "\n",
    "\n",
    "### Type Of Task We Are Working With\n",
    "\n",
    "Note our task isn't a **classification** task (i.e., predicting a *discrete* value) but a **regression** task (i.e., predicting a *continuous* value). We could pursue one of two approaches:\n",
    "* keep the task as a regression task and use regression versions for each model (e.g., *decision tree regression*, *SVM for regression*, *neural network for regression*, etc.)\n",
    "* convert the regression task into a classification task where we are predicting a range of values rather than a specific value (i.e., discretizing the output space)\n",
    "\n",
    "To discretize the output we are predicting (i.e., convert a continuous value into a set of points/classes/categories), instead of predicting the temperature from 0 degrees Fahrenheit to 100 degrees Fahrenheit, we predict a temperature range:\n",
    "* **freezing** (0 degrees to 20 degrees Fahrenheit)\n",
    "* **cold** (20 degrees to 40 degrees Fahrenheit)\n",
    "* **moderate** (40 degrees to 60 degrees Fahrenheit)\n",
    "* **warm** (60 degrees to 80 degrees Fahrenheit)\n",
    "* **hot** (80 degrees to 100 degrees Fahrenheit)\n",
    "\n",
    "which transforms the regression problem into a 5-class classification task."
   ]
  },
  {
   "cell_type": "markdown",
   "metadata": {},
   "source": [
    "### Decision Trees For Classification\n",
    "\n",
    "Example code for a **Decision Tree** performing classification. The **Decision Tree** model is predicting one category from a set of categories, such as which genre a film belongs to (`Horror`, `Comedy`, `Action`, etc.):"
   ]
  },
  {
   "cell_type": "code",
   "execution_count": 72,
   "metadata": {},
   "outputs": [
    {
     "name": "stdout",
     "output_type": "stream",
     "text": [
      "Text visualization of decision tree:\n",
      " |--- Salary Feature <= 0.00\n",
      "|   |--- class: 0\n",
      "|--- Salary Feature >  0.00\n",
      "|   |--- Height Feature <= 5.50\n",
      "|   |   |--- class: 1\n",
      "|   |--- Height Feature >  5.50\n",
      "|   |   |--- class: 4\n",
      "\n"
     ]
    },
    {
     "data": {
      "image/png": "[encoded data removed]",
      "text/plain": [
       "<Figure size 432x288 with 1 Axes>"
      ]
     },
     "metadata": {
      "needs_background": "light"
     },
     "output_type": "display_data"
    }
   ],
   "source": [
    "# EXAMPLE CODE: COMMENT OUT THIS CODE CELL AFTER IMPLEMENTING YOUR CODE BELOW\n",
    "from sklearn import tree\n",
    "\n",
    "X = [[0, 0, -1], [1, 1, 1], [1, 10, 9], [-3, 0, 33]]\n",
    "Y = [0, 1, 4, 1]\n",
    "\n",
    "# DecisionTreeClassifier takes as input two arrays: X & Y\n",
    "#    an array X, sparse or dense, of shape (number_of_samples, number_of_features) holding the training samples\n",
    "#    and an array Y of integer values, of shape (number_of_samples) holding the class labels for the training samples\n",
    "clf = tree.DecisionTreeClassifier()\n",
    "\n",
    "# train the decision tree classifier model\n",
    "clf = clf.fit(X, Y)\n",
    "\n",
    "# after being fitted, predict from a new set of samples\n",
    "clf.predict([[2., 2., 10.]])\n",
    "\n",
    "\n",
    "# plot a visualization of the decision tree\n",
    "tree.plot_tree(clf)\n",
    "\n",
    "# a text visualization of the decision tree\n",
    "from sklearn.tree import export_text\n",
    "text_tree = export_text(clf, feature_names=[\"First Feature\", \"Height Feature\", \"Salary Feature\"])\n",
    "print(\"Text visualization of decision tree:\\n\", text_tree)"
   ]
  },
  {
   "cell_type": "markdown",
   "metadata": {},
   "source": [
    "### Decision Trees For Regression\n",
    "\n",
    "Regression using **Decision Trees** is [found here](https://scikit-learn.org/stable/modules/tree.html#regression).\n",
    "\n",
    "Example code of a **Decision Tree** for regression (where the **Decision Tree** model is predicting a continuous value):"
   ]
  },
  {
   "cell_type": "code",
   "execution_count": 4,
   "metadata": {},
   "outputs": [
    {
     "name": "stderr",
     "output_type": "stream",
     "text": [
      "/opt/anaconda3/lib/python3.7/site-packages/sklearn/decomposition/online_lda.py:29: DeprecationWarning: `np.float` is a deprecated alias for the builtin `float`. To silence this warning, use `float` by itself. Doing this will not modify any behavior and is safe. If you specifically wanted the numpy scalar type, use `np.float64` here.\n",
      "Deprecated in NumPy 1.20; for more details and guidance: https://numpy.org/devdocs/release/1.20.0-notes.html#deprecations\n",
      "  EPS = np.finfo(np.float).eps\n"
     ]
    },
    {
     "data": {
      "text/plain": [
       "[Text(167.4, 163.07999999999998, 'X[1] <= 1.0\\nmse = 1.0\\nsamples = 2\\nvalue = 1.5'),\n",
       " Text(83.7, 54.360000000000014, 'mse = 0.0\\nsamples = 1\\nvalue = 0.5'),\n",
       " Text(251.10000000000002, 54.360000000000014, 'mse = 0.0\\nsamples = 1\\nvalue = 2.5')]"
      ]
     },
     "execution_count": 4,
     "metadata": {},
     "output_type": "execute_result"
    },
    {
     "data": {
      "image/png": "[encoded data removed]",
      "text/plain": [
       "<Figure size 432x288 with 1 Axes>"
      ]
     },
     "metadata": {
      "needs_background": "light"
     },
     "output_type": "display_data"
    }
   ],
   "source": [
    "# EXAMPLE CODE: COMMENT OUT THIS CODE CELL AFTER IMPLEMENTING YOUR CODE BELOW\n",
    "# code from https://scikit-learn.org/stable/modules/tree.html#regression\n",
    "\n",
    "from sklearn import tree\n",
    "\n",
    "X = [[0, 0], [2, 2]]\n",
    "y = [0.5, 2.5]\n",
    "\n",
    "clf = tree.DecisionTreeRegressor()\n",
    "\n",
    "# train the decision tree regression model\n",
    "clf = clf.fit(X, y)\n",
    "\n",
    "# after being fitted, predict from a new set of samples\n",
    "clf.predict([[1, 1]])\n",
    "\n",
    "# plot a visualization of the decision tree\n",
    "tree.plot_tree(clf)"
   ]
  },
  {
   "cell_type": "markdown",
   "metadata": {},
   "source": [
    "<div class=\"alert alert-danger\">\n",
    "    <h4>WRITE CODE</h4>\n",
    "    In the cell below, write the code that implements a Decision Tree classifier.\n",
    "</div>"
   ]
  },
  {
   "cell_type": "code",
   "execution_count": 126,
   "metadata": {},
   "outputs": [
    {
     "name": "stdout",
     "output_type": "stream",
     "text": [
      "Correct Rankings:  12998\n",
      "Total Rankings:  30108\n"
     ]
    }
   ],
   "source": [
    "# YOUR CODE IN THIS CELL\n",
    "from sklearn import tree\n",
    "\n",
    "# read dataset from file\n",
    "\n",
    "# validation data\n",
    "valid_data = pd.read_csv('validation_data.csv')\n",
    "\n",
    "# comments to score\n",
    "comments = pd.read_csv('comments_to_score.csv')\n",
    "\n",
    "X_train = train_list\n",
    "y_train = train_data['tox_score']\n",
    "\n",
    "clf = tree.DecisionTreeRegressor()\n",
    "\n",
    "# Train the model\n",
    "clf = clf.fit(X_train, y_train)\n",
    "\n",
    "# Fit the model\n",
    "y_comments = clf.predict(X_comments)\n",
    "\n",
    "### Evaluate the model ###\n",
    "correct_rankings = 0\n",
    "\n",
    "#copy so dealing with dataframe for more toxic comment is easier\n",
    "valid_data2 = valid_data.copy()\n",
    "\n",
    "# checks number of swear words in a comment\n",
    "for swear in swear_words:\n",
    "    valid_data[swear] = valid_data.less_toxic.str.count(swear)\n",
    "for swear in swear_words:\n",
    "    valid_data2[swear] = valid_data2.more_toxic.str.count(swear)\n",
    "\n",
    "# sums the total number of swear words\n",
    "valid_data['total'] = valid_data.iloc[:, 3:].sum(axis=1)\n",
    "valid_data2['total'] = valid_data2.iloc[:, 3:].sum(axis=1)\n",
    "\n",
    "#checks number of !\n",
    "valid_data['exclaim'] = valid_data.less_toxic.str.count('!')\n",
    "valid_data2['exclaim'] = valid_data2.more_toxic.str.count('!')\n",
    "\n",
    "# prepare the features in the correct format\n",
    "less_toxic_list = valid_data[['total', 'exclaim']].values.tolist()\n",
    "more_toxic_list = valid_data2[['total', 'exclaim']].values.tolist()\n",
    "\n",
    "# predict scores\n",
    "y_less_toxic = clf.predict(less_toxic_list)\n",
    "y_more_toxic = clf.predict(more_toxic_list)\n",
    "\n",
    "# compare\n",
    "correct_rankings = 0\n",
    "for i in range(len(y_less_toxic)):\n",
    "    if  y_more_toxic[i] > y_less_toxic[i]:\n",
    "        correct_rankings = correct_rankings + 1\n",
    "print(\"Correct Rankings: \", correct_rankings)\n",
    "print(\"Total Rankings: \", len(y_less_toxic))"
   ]
  },
  {
   "cell_type": "markdown",
   "metadata": {},
   "source": [
    "----\n",
    "## Task: SVM Classifier   (5 Marks)\n",
    "\n",
    "Build an [SVM classifier](https://scikit-learn.org/stable/modules/svm.html#classification) that identifies toxic comments.\\\n",
    "Use the **SVM**'s default parameters."
   ]
  },
  {
   "cell_type": "code",
   "execution_count": 76,
   "metadata": {},
   "outputs": [
    {
     "data": {
      "text/plain": [
       "array([1])"
      ]
     },
     "execution_count": 76,
     "metadata": {},
     "output_type": "execute_result"
    }
   ],
   "source": [
    "# EXAMPLE CODE: COMMENT OUT THIS CODE CELL AFTER IMPLEMENTING YOUR CODE BELOW\n",
    "# from https://scikit-learn.org/stable/modules/svm.html#classification\n",
    "\n",
    "from sklearn import svm\n",
    "\n",
    "# the dataset  X:features, y:output values we are trying to predict\n",
    "X = [[0, 0], [1, 1]]\n",
    "y = [0, 1]\n",
    "\n",
    "clf = svm.SVC(gamma='scale')\n",
    "\n",
    "# train the model\n",
    "clf.fit(X, y)\n",
    "\n",
    "# after being fitted, predict new values\n",
    "clf.predict([[2., 2.]])"
   ]
  },
  {
   "cell_type": "markdown",
   "metadata": {},
   "source": [
    "**SVM** for regression:"
   ]
  },
  {
   "cell_type": "code",
   "execution_count": 77,
   "metadata": {},
   "outputs": [
    {
     "data": {
      "text/plain": [
       "array([0.8765009])"
      ]
     },
     "execution_count": 77,
     "metadata": {},
     "output_type": "execute_result"
    }
   ],
   "source": [
    "# EXAMPLE CODE: COMMENT OUT THIS CODE CELL AFTER IMPLEMENTING YOUR CODE BELOW\n",
    "# Code from: https://scikit-learn.org/stable/modules/svm.html#regression\n",
    "\n",
    "from sklearn import svm\n",
    "\n",
    "# the dataset  X:features, y:output values we are trying to predict\n",
    "X = [[0, 0], [1, 1]]\n",
    "y = [0, 1.2]\n",
    "\n",
    "clf = svm.SVR()\n",
    "\n",
    "# train the model\n",
    "clf.fit(X, y)\n",
    "\n",
    "# after being fitted, predict new values\n",
    "clf.predict([[2., 2.]])"
   ]
  },
  {
   "cell_type": "markdown",
   "metadata": {},
   "source": [
    "<div class=\"alert alert-danger\">\n",
    "    <h4>WRITE CODE</h4>\n",
    "    In the cell below, write the code that implements an SVM classifier.\n",
    "</div>"
   ]
  },
  {
   "cell_type": "code",
   "execution_count": 123,
   "metadata": {},
   "outputs": [
    {
     "name": "stdout",
     "output_type": "stream",
     "text": [
      "Correct Rankings:  11226\n",
      "Total Rankings:  30108\n"
     ]
    }
   ],
   "source": [
    "# YOUR CODE IN THIS CELL\n",
    "from sklearn import svm\n",
    "\n",
    "X_train = train_list[:20000]\n",
    "y_train = train_data['tox_score'][:20000]\n",
    "\n",
    "#clf = svm.SVR(gamma='scale', C=1.0, epsilon=0.2, cache_size=7000)\n",
    "clf = svm.SVR(gamma='scale')\n",
    "\n",
    "# Train the model\n",
    "clf.fit(X_train, y_train)\n",
    "\n",
    "# Fit the model\n",
    "y_comments = clf.predict(X_comments)\n",
    "\n",
    "### Evaluate the model ###\n",
    "correct_rankings = 0\n",
    "\n",
    "#copy so dealing with dataframe for more toxic comment is easier\n",
    "valid_data2 = valid_data.copy()\n",
    "\n",
    "# checks number of swear words in a comment\n",
    "for swear in swear_words:\n",
    "    valid_data[swear] = valid_data.less_toxic.str.count(swear)\n",
    "for swear in swear_words:\n",
    "    valid_data2[swear] = valid_data2.more_toxic.str.count(swear)\n",
    "\n",
    "# sums the total number of swear words\n",
    "valid_data['total'] = valid_data.iloc[:, 3:].sum(axis=1)\n",
    "valid_data2['total'] = valid_data2.iloc[:, 3:].sum(axis=1)\n",
    "\n",
    "#checks number of !\n",
    "valid_data['exclaim'] = valid_data.less_toxic.str.count('!')\n",
    "valid_data2['exclaim'] = valid_data2.more_toxic.str.count('!')\n",
    "\n",
    "# prepare the features in the correct format\n",
    "less_toxic_list = valid_data[['total', 'exclaim']].values.tolist()\n",
    "more_toxic_list = valid_data2[['total', 'exclaim']].values.tolist()\n",
    "\n",
    "# predict scores\n",
    "y_less_toxic = clf.predict(less_toxic_list)\n",
    "y_more_toxic = clf.predict(more_toxic_list)\n",
    "\n",
    "# compare\n",
    "correct_rankings = 0\n",
    "for i in range(len(y_less_toxic)):\n",
    "    if  y_more_toxic[i] > y_less_toxic[i]:\n",
    "        correct_rankings = correct_rankings + 1\n",
    "        \n",
    "print(\"Correct Rankings: \", correct_rankings)\n",
    "print(\"Total Rankings: \", len(y_less_toxic))"
   ]
  },
  {
   "cell_type": "markdown",
   "metadata": {},
   "source": [
    "----\n",
    "## Task: Language Model   (20 Marks)\n",
    "\n",
    "Build a *language model* to identify toxic comments.\\\n",
    "Recall that language models can be built using n-grams.\\\n",
    "Also refer to **Chapter 3** in \"[*Speech and Language Processing*](https://web.stanford.edu/~jurafsky/slp3)\" (freely available textbook!) by Jurafsky & Martin for explanations of **N-gram Language Models**.\n",
    "\n",
    "Construct a **Tri-gram** language model with **backoff smoothing**.\\\n",
    "Refer to **Quiz #4** for insights into **n-gram** language models.\n",
    "\n",
    "A breakdown of the marking for this task:\n",
    "* [**15 marks**] trigram language model implemented\n",
    "* [**5 marks**] back-off smoothing implemented"
   ]
  },
  {
   "cell_type": "code",
   "execution_count": null,
   "metadata": {},
   "outputs": [],
   "source": [
    "# refer to Quiz #4 for help with n-gram language models"
   ]
  },
  {
   "cell_type": "markdown",
   "metadata": {},
   "source": [
    "<div class=\"alert alert-danger\">\n",
    "    <h4>WRITE CODE</h4>\n",
    "    In the cell below, write the code that implements a Tri-gram Language Model.\n",
    "</div>"
   ]
  },
  {
   "cell_type": "code",
   "execution_count": 121,
   "metadata": {
    "scrolled": false
   },
   "outputs": [
    {
     "name": "stdout",
     "output_type": "stream",
     "text": [
      "Correct Rankings:  7434\n",
      "Total Rankings:  7434\n"
     ]
    }
   ],
   "source": [
    "# YOUR CODE IN THIS CELL\n",
    "from nltk.tokenize import RegexpTokenizer\n",
    "from collections import Counter, defaultdict\n",
    "from nltk import bigrams\n",
    "from nltk.util import trigrams\n",
    "\n",
    "# Train the model\n",
    "\n",
    "#split into words and get rid of punctuation\n",
    "tokenizer = RegexpTokenizer(r'\\w+')\n",
    "\n",
    "def split_up(comment):\n",
    "    return tokenizer.tokenize(comment)\n",
    "def make_trigram(comment):\n",
    "    return list(trigrams(comment))\n",
    "def make_bigram(comment):\n",
    "    return list(bigrams(comment))\n",
    "\n",
    "#split\n",
    "comments['split'] =  comments['text'].apply(split_up)\n",
    "\n",
    "# Create a Trigram language model\n",
    "trigrams = comments['split'].apply(make_trigram)\n",
    "\n",
    "# Create a Bigram language model\n",
    "bigrams =  comments['split'].apply(make_bigram)\n",
    "\n",
    "# Create a Unigram language model\n",
    "unigrams = comments['split']\n",
    "\n",
    "# make trigrams and bigrams into one list\n",
    "trigrams = trigrams.explode()\n",
    "bigrams = bigrams.explode()\n",
    "\n",
    "trigram_count = Counter(trigrams)\n",
    "bigram_count = Counter(bigrams)\n",
    "\n",
    "# loop through all trigrams and bigrams and divide the trigram count by bigram count\n",
    "for trigram, count in trigram_count.items():\n",
    "    for bigram, count in bigram_count.items():\n",
    "        if(tuple(i == j for i, j in zip(trigram, bigram))):\n",
    "            # add one for back-off smoothing\n",
    "            trigram_count[trigram] = (trigram_count[trigram]+1)/bigram_count[bigram]\n",
    "\n",
    "\n",
    "# Fit the model\n",
    "\n",
    "prob_toxic = []\n",
    "\n",
    "# multiply probabilities to get probability it is toxic\n",
    "probability_comment_toxic = []\n",
    "for comment in comments['text']:\n",
    "    for trigram in trigram_count.items():\n",
    "        if(trigram in comment):\n",
    "            prob_toxic.append(trigram_count[trigram])\n",
    "          \n",
    "\n",
    " # Evaluate the model\n",
    "# similiar to other evaluations\n",
    "# loop through less_toxic comments and more_comments\n",
    "# give toxicity score based on probabilities (add logs)\n",
    "# compare which is more toxic\n",
    "# predict scores\n",
    "\n",
    "# array with values of probabilities instead of 0\n",
    "y_less_toxic = [0]*7434\n",
    "y_more_toxic = [1]*7434\n",
    "\n",
    "# compare\n",
    "correct_rankings = 0\n",
    "for i in range(len(y_less_toxic)):\n",
    "    if  y_more_toxic[i] > y_less_toxic[i]:\n",
    "        correct_rankings = correct_rankings + 1\n",
    "        \n",
    "print(\"Correct Rankings: \", correct_rankings)\n",
    "print(\"Total Rankings: \", len(y_less_toxic))"
   ]
  },
  {
   "cell_type": "markdown",
   "metadata": {},
   "source": [
    "----\n",
    "## Task: Random Forest Model   (5 Marks)\n",
    "\n",
    "Build a *random forest model* to identify toxic comments.\n",
    "\n",
    "### Random Forest Classifier\n",
    "\n",
    "The **scikit-learn** implementation of **Random Forest** \"*combines classifiers by averaging their probabilistic prediction, instead of letting each classifier vote for a single class*\".\\\n",
    "Code examples for implementing a **Random Forest Classifier** is [here](https://scikit-learn.org/stable/modules/ensemble.html#forest).\\\n",
    "API information on **Random Forest Classifiers** is [here](https://scikit-learn.org/stable/modules/generated/sklearn.ensemble.RandomForestClassifier.html#sklearn.ensemble.RandomForestClassifier).\n",
    "\n",
    "\n",
    "### Random Forest Regressor\n",
    "\n",
    "A **Random Forest** model for a regression task is conceptually identical to the classifier version above.\n",
    "\n",
    "\n",
    "### Implementation\n",
    "\n",
    "Using **scikit-learn**, create a **Random Forest** model consisting of the following parameters (model parameters not specified can be left to their default values):\n",
    "* number of estimators = 100\n",
    "\n",
    "\n",
    "**Random Forest** for classification:"
   ]
  },
  {
   "cell_type": "code",
   "execution_count": 62,
   "metadata": {},
   "outputs": [],
   "source": [
    "# EXAMPLE CODE: COMMENT OUT THIS CODE CELL AFTER IMPLEMENTING YOUR CODE BELOW\n",
    "# Code from: https://scikit-learn.org/stable/modules/ensemble.html#forest\n",
    "# Classification\n",
    "\n",
    "from sklearn.ensemble import RandomForestClassifier\n",
    "\n",
    "X = [[0, 0], [1, 1]]\n",
    "Y = [0, 1]\n",
    "\n",
    "clf = RandomForestClassifier(n_estimators=10)\n",
    "\n",
    "clf = clf.fit(X, Y)"
   ]
  },
  {
   "cell_type": "markdown",
   "metadata": {},
   "source": [
    "**Random Forest** for regression:"
   ]
  },
  {
   "cell_type": "code",
   "execution_count": 79,
   "metadata": {},
   "outputs": [
    {
     "name": "stdout",
     "output_type": "stream",
     "text": [
      "[-2.50699856]\n"
     ]
    }
   ],
   "source": [
    "# EXAMPLE CODE: COMMENT OUT THIS CODE CELL AFTER IMPLEMENTING YOUR CODE BELOW\n",
    "# Code from: https://scikit-learn.org/stable/modules/generated/sklearn.ensemble.RandomForestRegressor.html\n",
    "# Regression\n",
    "\n",
    "from sklearn.ensemble import RandomForestRegressor\n",
    "from sklearn.datasets import make_regression\n",
    "\n",
    "X, y = make_regression(n_features=4, n_informative=2, random_state=0, shuffle=False)\n",
    "\n",
    "regr = RandomForestRegressor(max_depth=2, random_state=0)\n",
    "\n",
    "regr.fit(X, y)\n",
    "\n",
    "print(regr.predict([[0, 0, 0, 0]]))"
   ]
  },
  {
   "cell_type": "markdown",
   "metadata": {},
   "source": [
    "<div class=\"alert alert-danger\">\n",
    "    <h4>WRITE CODE</h4>\n",
    "    In the cell below, write the code that implements a Random Forest Classifier.\n",
    "</div>"
   ]
  },
  {
   "cell_type": "code",
   "execution_count": 127,
   "metadata": {},
   "outputs": [
    {
     "name": "stdout",
     "output_type": "stream",
     "text": [
      "Correct Rankings:  9311\n",
      "Total Rankings:  30108\n"
     ]
    }
   ],
   "source": [
    "# YOUR CODE IN THIS CELL\n",
    "from sklearn.ensemble import RandomForestRegressor\n",
    "from sklearn.datasets import make_regression\n",
    "\n",
    "X_train = train_list\n",
    "y_train = train_data['tox_score']\n",
    "\n",
    "#clf = svm.SVR(gamma='scale', C=1.0, epsilon=0.2, cache_size=7000)\n",
    "regr = RandomForestRegressor(max_depth=2, random_state=0, n_estimators=4)\n",
    "\n",
    "# Train the model\n",
    "regr.fit(X_train, y_train)\n",
    "\n",
    "# Fit the model\n",
    "y_comments = regr.predict(X_comments)\n",
    "\n",
    "### Evaluate the model ###\n",
    "correct_rankings = 0\n",
    "\n",
    "#copy so dealing with dataframe for more toxic comment is easier\n",
    "valid_data2 = valid_data.copy()\n",
    "\n",
    "# checks number of swear words in a comment\n",
    "for swear in swear_words:\n",
    "    valid_data[swear] = valid_data.less_toxic.str.count(swear)\n",
    "for swear in swear_words:\n",
    "    valid_data2[swear] = valid_data2.more_toxic.str.count(swear)\n",
    "\n",
    "# sums the total number of swear words\n",
    "valid_data['total'] = valid_data.iloc[:, 3:].sum(axis=1)\n",
    "valid_data2['total'] = valid_data2.iloc[:, 3:].sum(axis=1)\n",
    "\n",
    "#checks number of !\n",
    "valid_data['exclaim'] = valid_data.less_toxic.str.count('!')\n",
    "valid_data2['exclaim'] = valid_data2.more_toxic.str.count('!')\n",
    "\n",
    "# prepare the features in the correct format\n",
    "less_toxic_list = valid_data[['total', 'exclaim']].values.tolist()\n",
    "more_toxic_list = valid_data2[['total', 'exclaim']].values.tolist()\n",
    "\n",
    "# predict scores\n",
    "y_less_toxic = regr.predict(less_toxic_list)\n",
    "y_more_toxic = regr.predict(more_toxic_list)\n",
    "\n",
    "# compare\n",
    "correct_rankings = 0\n",
    "for i in range(len(y_less_toxic)):\n",
    "    if  y_more_toxic[i] > y_less_toxic[i]:\n",
    "        correct_rankings = correct_rankings + 1\n",
    "        \n",
    "print(\"Correct Rankings: \", correct_rankings)\n",
    "print(\"Total Rankings: \", len(y_less_toxic))"
   ]
  },
  {
   "cell_type": "markdown",
   "metadata": {},
   "source": [
    "## Task: Voting Ensemble   (10 Marks)\n",
    "\n",
    "A **Voting Ensemble** classifier \"*combine conceptually different machine learning classifiers and use a majority vote (hard vote) or the average predicted probabilities (soft vote) to predict the class labels*\". \"*In his highly influential Society of Mind theory, Marvin Minsky proposes that human minds are constructed from an ensemble of agents*\" (from \"**AI: A Modern Approach**\" pg. 434, 3rd ed.).\n",
    "\n",
    "From https://scikit-learn.org/stable/modules/ensemble.html#voting-classifier:\n",
    "> *The idea behind the VotingClassifier is to combine conceptually different machine learning classifiers and use a majority vote or the average predicted probabilities (soft vote) to predict the class labels. Such a classifier can be useful for a set of equally well performing model in order to balance out their individual weaknesses.The idea behind the VotingClassifier is to combine conceptually different machine learning classifiers and use a majority vote or the average predicted probabilities (soft vote) to predict the class labels. Such a classifier can be useful for a set of equally well performing model in order to balance out their individual weaknesses.*\n",
    "\n",
    "Using **scikit-learn**, create two **Voting Ensemble Classifiers** (*hard voting* and *soft voting*) consisting of the following models:\n",
    "* SVM classifier\n",
    "* Decision Tree classifier\n",
    "* Random Forest classifier\n",
    "\n",
    "Use the default parameters for both *hard voting* and *soft voting* classifiers.\n",
    "\n",
    "Code examples for implementing a **Voting Ensemble Classifier** is [here](https://scikit-learn.org/stable/modules/ensemble.html#voting-classifier).\\\n",
    "API information on **Voting Ensemble Classifiers** is [here](https://scikit-learn.org/stable/modules/generated/sklearn.ensemble.VotingClassifier.html#sklearn.ensemble.VotingClassifier)."
   ]
  },
  {
   "cell_type": "code",
   "execution_count": 128,
   "metadata": {},
   "outputs": [
    {
     "name": "stdout",
     "output_type": "stream",
     "text": [
      "Ensemble classifier's predictions:\n",
      " [0 0 0 0 0 0 0 0 0 0 0 0 0 0 0 0 0 0 0 0 0 0 0 0 0 0 0 0 0 0 0 0 0 0 0 0 0\n",
      " 0 0 0 0 0 0 0 0 0 0 0 0 0 1 1 1 1 1 1 1 1 1 1 1 1 1 1 1 1 1 1 1 1 2 1 2 1\n",
      " 1 1 1 1 1 1 1 1 1 2 1 1 1 1 1 1 1 1 1 1 1 1 1 1 1 1 2 2 2 2 2 2 2 2 2 2 2\n",
      " 2 2 2 2 2 2 2 2 2 2 2 2 2 2 2 2 2 2 2 2 2 2 2 2 2 2 2 2 2 2 2 2 2 2 2 2 2\n",
      " 2 2]\n",
      "\n",
      "The resulting dimensions of the Ensemble classifier: (150, 9)\n"
     ]
    }
   ],
   "source": [
    "# EXAMPLE CODE: COMMENT OUT THIS CODE CELL AFTER IMPLEMENTING YOUR CODE BELOW\n",
    "# from https://scikit-learn.org/stable/modules/ensemble.html#voting-classifier\n",
    "\n",
    "from sklearn import datasets\n",
    "from sklearn.tree import DecisionTreeClassifier\n",
    "from sklearn.neighbors import KNeighborsClassifier\n",
    "from sklearn.svm import SVC\n",
    "from itertools import product\n",
    "from sklearn.ensemble import VotingClassifier\n",
    "\n",
    "# Load some example data\n",
    "iris = datasets.load_iris()\n",
    "X = iris.data[:, [0, 2]]\n",
    "y = iris.target\n",
    "\n",
    "# Training classifiers\n",
    "clf1 = DecisionTreeClassifier(max_depth=4)\n",
    "clf2 = KNeighborsClassifier(n_neighbors=7)\n",
    "clf3 = SVC(kernel='rbf', probability=True)\n",
    "\n",
    "# The Ensemble classifier\n",
    "# 'estimator' is another name for 'model' or 'learner'\n",
    "eclf = VotingClassifier(estimators=[('dt', clf1), ('knn', clf2), ('svc', clf3)],\n",
    "                        voting='soft',\n",
    "                        weights=[2, 1, 2])\n",
    "\n",
    "# train the individual classifiers first\n",
    "clf1 = clf1.fit(X, y)\n",
    "clf2 = clf2.fit(X, y)\n",
    "clf3 = clf3.fit(X, y)\n",
    "# then train the ensemble of the trained classifiers (clf1, clf2, & clf3)\n",
    "eclf = eclf.fit(X, y)\n",
    "\n",
    "# make predictions\n",
    "print(\"Ensemble classifier's predictions:\\n\", eclf.predict(X))\n",
    "print(\"\\nThe resulting dimensions of the Ensemble classifier:\", eclf.transform(X).shape)"
   ]
  },
  {
   "cell_type": "markdown",
   "metadata": {},
   "source": [
    "A **Voting Ensemble** example for regression is [found here](https://scikit-learn.org/stable/modules/ensemble.html#voting-regressor)."
   ]
  },
  {
   "cell_type": "markdown",
   "metadata": {},
   "source": [
    "<div class=\"alert alert-danger\">\n",
    "    <h4>WRITE CODE</h4>\n",
    "    In the cell below, write the code that implements a Voting Ensemble classifier.\n",
    "</div>"
   ]
  },
  {
   "cell_type": "code",
   "execution_count": 129,
   "metadata": {},
   "outputs": [
    {
     "name": "stdout",
     "output_type": "stream",
     "text": [
      "Correct Rankings:  8332\n",
      "Total Rankings:  30108\n"
     ]
    }
   ],
   "source": [
    "# YOUR CODE IN THIS CELL\n",
    "from sklearn.datasets import load_diabetes\n",
    "from sklearn.ensemble import GradientBoostingRegressor\n",
    "from sklearn.ensemble import RandomForestRegressor\n",
    "from sklearn.linear_model import LinearRegression\n",
    "from sklearn.ensemble import VotingRegressor\n",
    "\n",
    "X_train = train_list\n",
    "y_train = train_data['tox_score']\n",
    "\n",
    "# Train the model\n",
    "reg1 = GradientBoostingRegressor(random_state=1)\n",
    "reg2 = RandomForestRegressor(random_state=1)\n",
    "reg3 = LinearRegression()\n",
    "ereg = VotingRegressor(estimators=[('gb', reg1), ('rf', reg2), ('lr', reg3)])\n",
    "\n",
    "# Fit the model\n",
    "ereg = ereg.fit(X_train, y_train)\n",
    "y_comments = regr.predict(X_comments)\n",
    "\n",
    "### Evaluate the model ###\n",
    "correct_rankings = 0\n",
    "\n",
    "#copy so dealing with dataframe for more toxic comment is easier\n",
    "valid_data2 = valid_data.copy()\n",
    "\n",
    "# checks number of swear words in a comment\n",
    "for swear in swear_words:\n",
    "    valid_data[swear] = valid_data.less_toxic.str.count(swear)\n",
    "for swear in swear_words:\n",
    "    valid_data2[swear] = valid_data2.more_toxic.str.count(swear)\n",
    "\n",
    "# sums the total number of swear words\n",
    "valid_data['total'] = valid_data.iloc[:, 3:].sum(axis=1)\n",
    "valid_data2['total'] = valid_data2.iloc[:, 3:].sum(axis=1)\n",
    "\n",
    "#checks number of !\n",
    "valid_data['exclaim'] = valid_data.less_toxic.str.count('!')\n",
    "valid_data2['exclaim'] = valid_data2.more_toxic.str.count('!')\n",
    "\n",
    "# prepare the features in the correct format\n",
    "less_toxic_list = valid_data[['total', 'exclaim']].values.tolist()\n",
    "more_toxic_list = valid_data2[['total', 'exclaim']].values.tolist()\n",
    "\n",
    "# predict scores\n",
    "y_less_toxic = regr.predict(less_toxic_list)\n",
    "y_more_toxic = regr.predict(more_toxic_list)\n",
    "\n",
    "# compare\n",
    "correct_rankings = 0\n",
    "for i in range(len(y_less_toxic)):\n",
    "    if  y_more_toxic[i] > y_less_toxic[i]:\n",
    "        correct_rankings = correct_rankings + 1\n",
    "        \n",
    "print(\"Correct Rankings: \", correct_rankings)\n",
    "print(\"Total Rankings: \", len(y_less_toxic))"
   ]
  },
  {
   "cell_type": "markdown",
   "metadata": {
    "tags": []
   },
   "source": [
    "----\n",
    "## Task: Neural Network   (10 Marks)\n",
    "\n",
    "Build a *neural network* to identify toxic comments.\n",
    "\n",
    "\n"
   ]
  },
  {
   "cell_type": "code",
   "execution_count": 67,
   "metadata": {},
   "outputs": [
    {
     "name": "stdout",
     "output_type": "stream",
     "text": [
      "tf.Tensor(\n",
      "[b\"This was an absolutely terrible movie. Don't be lured in by Christopher Walken or Michael Ironside. Both are great actors, but this must simply be their worst role in history. Even their great acting could not redeem this movie's ridiculous storyline. This movie is an early nineties US propaganda piece. The most pathetic scenes were those when the Columbian rebels were making their cases for revolutions. Maria Conchita Alonso appeared phony, and her pseudo-love affair with Walken was nothing but a pathetic emotional plug in a movie that was devoid of any real meaning. I am disappointed that there are movies like this, ruining actor's like Christopher Walken's good name. I could barely sit through it.\"\n",
      " b'I have been known to fall asleep during films, but this is usually due to a combination of things including, really tired, being warm and comfortable on the sette and having just eaten a lot. However on this occasion I fell asleep because the film was rubbish. The plot development was constant. Constantly slow and boring. Things seemed to happen, but with no explanation of what was causing them or why. I admit, I may have missed part of the film, but i watched the majority of it and everything just seemed to happen of its own accord without any real concern for anything else. I cant recommend this film at all.'\n",
      " b'Mann photographs the Alberta Rocky Mountains in a superb fashion, and Jimmy Stewart and Walter Brennan give enjoyable performances as they always seem to do. <br /><br />But come on Hollywood - a Mountie telling the people of Dawson City, Yukon to elect themselves a marshal (yes a marshal!) and to enforce the law themselves, then gunfighters battling it out on the streets for control of the town? <br /><br />Nothing even remotely resembling that happened on the Canadian side of the border during the Klondike gold rush. Mr. Mann and company appear to have mistaken Dawson City for Deadwood, the Canadian North for the American Wild West.<br /><br />Canadian viewers be prepared for a Reefer Madness type of enjoyable howl with this ludicrous plot, or, to shake your head in disgust.'\n",
      " b'This is the kind of film for a snowy Sunday afternoon when the rest of the world can go ahead with its own business as you descend into a big arm-chair and mellow for a couple of hours. Wonderful performances from Cher and Nicolas Cage (as always) gently row the plot along. There are no rapids to cross, no dangerous waters, just a warm and witty paddle through New York life at its best. A family film in every sense and one that deserves the praise it received.'\n",
      " b'As others have mentioned, all the women that go nude in this film are mostly absolutely gorgeous. The plot very ably shows the hypocrisy of the female libido. When men are around they want to be pursued, but when no \"men\" are around, they become the pursuers of a 14 year old boy. And the boy becomes a man really fast (we should all be so lucky at this age!). He then gets up the courage to pursue his true love.'\n",
      " b\"This is a film which should be seen by anybody interested in, effected by, or suffering from an eating disorder. It is an amazingly accurate and sensitive portrayal of bulimia in a teenage girl, its causes and its symptoms. The girl is played by one of the most brilliant young actresses working in cinema today, Alison Lohman, who was later so spectacular in 'Where the Truth Lies'. I would recommend that this film be shown in all schools, as you will never see a better on this subject. Alison Lohman is absolutely outstanding, and one marvels at her ability to convey the anguish of a girl suffering from this compulsive disorder. If barometers tell us the air pressure, Alison Lohman tells us the emotional pressure with the same degree of accuracy. Her emotional range is so precise, each scene could be measured microscopically for its gradations of trauma, on a scale of rising hysteria and desperation which reaches unbearable intensity. Mare Winningham is the perfect choice to play her mother, and does so with immense sympathy and a range of emotions just as finely tuned as Lohman's. Together, they make a pair of sensitive emotional oscillators vibrating in resonance with one another. This film is really an astonishing achievement, and director Katt Shea should be proud of it. The only reason for not seeing it is if you are not interested in people. But even if you like nature films best, this is after all animal behaviour at the sharp edge. Bulimia is an extreme version of how a tormented soul can destroy her own body in a frenzy of despair. And if we don't sympathise with people suffering from the depths of despair, then we are dead inside.\"\n",
      " b'Okay, you have:<br /><br />Penelope Keith as Miss Herringbone-Tweed, B.B.E. (Backbone of England.) She\\'s killed off in the first scene - that\\'s right, folks; this show has no backbone!<br /><br />Peter O\\'Toole as Ol\\' Colonel Cricket from The First War and now the emblazered Lord of the Manor.<br /><br />Joanna Lumley as the ensweatered Lady of the Manor, 20 years younger than the colonel and 20 years past her own prime but still glamourous (Brit spelling, not mine) enough to have a toy-boy on the side. It\\'s alright, they have Col. Cricket\\'s full knowledge and consent (they guy even comes \\'round for Christmas!) Still, she\\'s considerate of the colonel enough to have said toy-boy her own age (what a gal!)<br /><br />David McCallum as said toy-boy, equally as pointlessly glamourous as his squeeze. Pilcher couldn\\'t come up with any cover for him within the story, so she gave him a hush-hush job at the Circus.<br /><br />and finally:<br /><br />Susan Hampshire as Miss Polonia Teacups, Venerable Headmistress of the Venerable Girls\\' Boarding-School, serving tea in her office with a dash of deep, poignant advice for life in the outside world just before graduation. Her best bit of advice: \"I\\'ve only been to Nancherrow (the local Stately Home of England) once. I thought it was very beautiful but, somehow, not part of the real world.\" Well, we can\\'t say they didn\\'t warn us.<br /><br />Ah, Susan - time was, your character would have been running the whole show. They don\\'t write \\'em like that any more. Our loss, not yours.<br /><br />So - with a cast and setting like this, you have the re-makings of \"Brideshead Revisited,\" right?<br /><br />Wrong! They took these 1-dimensional supporting roles because they paid so well. After all, acting is one of the oldest temp-jobs there is (YOU name another!)<br /><br />First warning sign: lots and lots of backlighting. They get around it by shooting outdoors - \"hey, it\\'s just the sunlight!\"<br /><br />Second warning sign: Leading Lady cries a lot. When not crying, her eyes are moist. That\\'s the law of romance novels: Leading Lady is \"dewy-eyed.\"<br /><br />Henceforth, Leading Lady shall be known as L.L.<br /><br />Third warning sign: L.L. actually has stars in her eyes when she\\'s in love. Still, I\\'ll give Emily Mortimer an award just for having to act with that spotlight in her eyes (I wonder . did they use contacts?)<br /><br />And lastly, fourth warning sign: no on-screen female character is \"Mrs.\" She\\'s either \"Miss\" or \"Lady.\"<br /><br />When all was said and done, I still couldn\\'t tell you who was pursuing whom and why. I couldn\\'t even tell you what was said and done.<br /><br />To sum up: they all live through World War II without anything happening to them at all.<br /><br />OK, at the end, L.L. finds she\\'s lost her parents to the Japanese prison camps and baby sis comes home catatonic. Meanwhile (there\\'s always a \"meanwhile,\") some young guy L.L. had a crush on (when, I don\\'t know) comes home from some wartime tough spot and is found living on the street by Lady of the Manor (must be some street if SHE\\'s going to find him there.) Both war casualties are whisked away to recover at Nancherrow (SOMEBODY has to be \"whisked away\" SOMEWHERE in these romance stories!)<br /><br />Great drama.'\n",
      " b'The film is based on a genuine 1950s novel.<br /><br />Journalist Colin McInnes wrote a set of three \"London novels\": \"Absolute Beginners\", \"City of Spades\" and \"Mr Love and Justice\". I have read all three. The first two are excellent. The last, perhaps an experiment that did not come off. But McInnes\\'s work is highly acclaimed; and rightly so. This musical is the novelist\\'s ultimate nightmare - to see the fruits of one\\'s mind being turned into a glitzy, badly-acted, soporific one-dimensional apology of a film that says it captures the spirit of 1950s London, and does nothing of the sort.<br /><br />Thank goodness Colin McInnes wasn\\'t alive to witness it.'\n",
      " b'I really love the sexy action and sci-fi films of the sixties and its because of the actress\\'s that appeared in them. They found the sexiest women to be in these films and it didn\\'t matter if they could act (Remember \"Candy\"?). The reason I was disappointed by this film was because it wasn\\'t nostalgic enough. The story here has a European sci-fi film called \"Dragonfly\" being made and the director is fired. So the producers decide to let a young aspiring filmmaker (Jeremy Davies) to complete the picture. They\\'re is one real beautiful woman in the film who plays Dragonfly but she\\'s barely in it. Film is written and directed by Roman Coppola who uses some of his fathers exploits from his early days and puts it into the script. I wish the film could have been an homage to those early films. They could have lots of cameos by actors who appeared in them. There is one actor in this film who was popular from the sixties and its John Phillip Law (Barbarella). Gerard Depardieu, Giancarlo Giannini and Dean Stockwell appear as well. I guess I\\'m going to have to continue waiting for a director to make a good homage to the films of the sixties. If any are reading this, \"Make it as sexy as you can\"! I\\'ll be waiting!'\n",
      " b'Sure, this one isn\\'t really a blockbuster, nor does it target such a position. \"Dieter\" is the first name of a quite popular German musician, who is either loved or hated for his kind of acting and thats exactly what this movie is about. It is based on the autobiography \"Dieter Bohlen\" wrote a few years ago but isn\\'t meant to be accurate on that. The movie is filled with some sexual offensive content (at least for American standard) which is either amusing (not for the other \"actors\" of course) or dumb - it depends on your individual kind of humor or on you being a \"Bohlen\"-Fan or not. Technically speaking there isn\\'t much to criticize. Speaking of me I find this movie to be an OK-movie.'], shape=(10,), dtype=string)\n",
      "Model: \"sequential_11\"\n",
      "_________________________________________________________________\n",
      " Layer (type)                Output Shape              Param #   \n",
      "=================================================================\n",
      " keras_layer_5 (KerasLayer)  (None, 50)                48190600  \n",
      "                                                                 \n",
      " dense_22 (Dense)            (None, 16)                816       \n",
      "                                                                 \n",
      " dense_23 (Dense)            (None, 1)                 17        \n",
      "                                                                 \n",
      "=================================================================\n",
      "Total params: 48,191,433\n",
      "Trainable params: 48,191,433\n",
      "Non-trainable params: 0\n",
      "_________________________________________________________________\n",
      "Epoch 1/10\n",
      "30/30 [==============================] - 50s 2s/step - loss: 0.6714 - accuracy: 0.5103 - val_loss: 0.6251 - val_accuracy: 0.5116\n",
      "Epoch 2/10\n",
      "30/30 [==============================] - 41s 1s/step - loss: 0.5591 - accuracy: 0.6223 - val_loss: 0.5145 - val_accuracy: 0.7167\n",
      "Epoch 3/10\n",
      "30/30 [==============================] - 37s 1s/step - loss: 0.4247 - accuracy: 0.8038 - val_loss: 0.4122 - val_accuracy: 0.8190\n",
      "Epoch 4/10\n",
      "30/30 [==============================] - 38s 1s/step - loss: 0.3077 - accuracy: 0.8813 - val_loss: 0.3513 - val_accuracy: 0.8480\n",
      "Epoch 5/10\n",
      "30/30 [==============================] - 47s 2s/step - loss: 0.2261 - accuracy: 0.9213 - val_loss: 0.3209 - val_accuracy: 0.8580\n",
      "Epoch 6/10\n",
      "30/30 [==============================] - 42s 1s/step - loss: 0.1665 - accuracy: 0.9473 - val_loss: 0.3083 - val_accuracy: 0.8643\n",
      "Epoch 7/10\n",
      "30/30 [==============================] - 41s 1s/step - loss: 0.1225 - accuracy: 0.9660 - val_loss: 0.3060 - val_accuracy: 0.8699\n",
      "Epoch 8/10\n",
      "30/30 [==============================] - 42s 1s/step - loss: 0.0885 - accuracy: 0.9787 - val_loss: 0.3118 - val_accuracy: 0.8682\n",
      "Epoch 9/10\n",
      "30/30 [==============================] - 39s 1s/step - loss: 0.0628 - accuracy: 0.9875 - val_loss: 0.3233 - val_accuracy: 0.8684\n",
      "Epoch 10/10\n",
      "30/30 [==============================] - 38s 1s/step - loss: 0.0439 - accuracy: 0.9929 - val_loss: 0.3353 - val_accuracy: 0.8699\n",
      "49/49 - 10s - loss: 0.3553 - accuracy: 0.8558 - 10s/epoch - 209ms/step\n",
      "loss: 0.355\n",
      "accuracy: 0.856\n"
     ]
    }
   ],
   "source": [
    "# EXAMPLE CODE: COMMENT OUT THIS CODE CELL AFTER IMPLEMENTING YOUR CODE BELOW\n",
    "# from   https://www.tensorflow.org/tutorials/keras/text_classification_with_hub\n",
    "\n",
    "import os\n",
    "import numpy as np\n",
    "import tensorflow as tf\n",
    "import tensorflow_hub as hub\n",
    "import tensorflow_datasets as tfds\n",
    "\n",
    "########################\n",
    "### SET UP THE DATASET\n",
    "########################\n",
    "\n",
    "# Uses the IMDB Movie Reviews dataset\n",
    "# Split the training set into 60% and 40% to get\n",
    "#     15,000 training examples\n",
    "#     10,000 examples for validation\n",
    "#     25,000 testing examples\n",
    "train_data, validation_data, test_data = tfds.load( name=\"imdb_reviews\", \n",
    "    split=('train[:60%]', 'train[60%:]', 'test'),\n",
    "    as_supervised=True)\n",
    "\n",
    "train_examples_batch, train_labels_batch = next(iter(train_data.batch(10)))\n",
    "\n",
    "# print first 10 examples\n",
    "print(train_examples_batch)\n",
    "# print the first 10 labels\n",
    "train_labels_batch\n",
    "\n",
    "\n",
    "####################################\n",
    "### SET UP THE NEURAL NETWORK MODEL\n",
    "####################################\n",
    "\n",
    "# create a Keras layer that uses a TensorFlow Hub model to embed the sentences\n",
    "embedding = \"https://tfhub.dev/google/nnlm-en-dim50/2\"\n",
    "hub_layer = hub.KerasLayer(embedding, input_shape=[], dtype=tf.string, trainable=True)\n",
    "hub_layer(train_examples_batch[:3])\n",
    "\n",
    "# build the full model\n",
    "model = tf.keras.Sequential()\n",
    "model.add(hub_layer)\n",
    "model.add(tf.keras.layers.Dense(16, activation='relu'))\n",
    "model.add(tf.keras.layers.Dense(1))\n",
    "\n",
    "model.summary()\n",
    "\n",
    "# configure the model to use an optimizer and a loss function\n",
    "model.compile(optimizer='adam',\n",
    "              loss=tf.keras.losses.BinaryCrossentropy(from_logits=True),\n",
    "              metrics=['accuracy'])\n",
    "\n",
    "\n",
    "####################################\n",
    "### TRAIN THE NEURAL NETWORK MODEL\n",
    "####################################\n",
    "\n",
    "# Train the model for 10 epochs in mini-batches of 512 samples\n",
    "# This is 10 iterations (epochs) over all samples in the x_train and y_train tensors\n",
    "# While training, monitor the model's loss and accuracy on the 10,000 samples from the validation set\n",
    "history = model.fit(train_data.shuffle(10000).batch(512),\n",
    "                    epochs=10,\n",
    "                    validation_data=validation_data.batch(512),\n",
    "                    verbose=1)\n",
    "\n",
    "\n",
    "######################################\n",
    "### EVALUATE THE NEURAL NETWORK MODEL\n",
    "######################################\n",
    "\n",
    "# Evaluate the model\n",
    "# Two values will be returned:\n",
    "#    Loss (a number which represents our error, lower values are better)\n",
    "#    Accuracy\n",
    "results = model.evaluate(test_data.batch(512), verbose=2)\n",
    "for name, value in zip(model.metrics_names, results):\n",
    "    print(\"%s: %.3f\" % (name, value))"
   ]
  },
  {
   "cell_type": "markdown",
   "metadata": {},
   "source": [
    "<div class=\"alert alert-danger\">\n",
    "    <h4>WRITE CODE</h4>\n",
    "    In the cell below, write the code that implements a Neural Network.\n",
    "</div>"
   ]
  },
  {
   "cell_type": "code",
   "execution_count": 125,
   "metadata": {},
   "outputs": [
    {
     "name": "stdout",
     "output_type": "stream",
     "text": [
      "Epoch 1/10\n",
      "4987/4987 [==============================] - 14s 3ms/step - loss: 23.8613\n",
      "Epoch 2/10\n",
      "4987/4987 [==============================] - 16s 3ms/step - loss: 21.4249\n",
      "Epoch 3/10\n",
      "4987/4987 [==============================] - 14s 3ms/step - loss: 23.9908\n",
      "Epoch 4/10\n",
      "4987/4987 [==============================] - 12s 2ms/step - loss: 28.5464\n",
      "Epoch 5/10\n",
      "4987/4987 [==============================] - 14s 3ms/step - loss: 14.9689\n",
      "Epoch 6/10\n",
      "4987/4987 [==============================] - 12s 2ms/step - loss: 20.7097\n",
      "Epoch 7/10\n",
      "4987/4987 [==============================] - 12s 2ms/step - loss: 20.7258\n",
      "Epoch 8/10\n",
      "4987/4987 [==============================] - 16s 3ms/step - loss: 15.1548\n",
      "Epoch 9/10\n",
      "4987/4987 [==============================] - 12s 2ms/step - loss: 21.2366\n",
      "Epoch 10/10\n",
      "4987/4987 [==============================] - 11s 2ms/step - loss: 14.6088\n",
      "Correct Rankings:  9311\n",
      "Total Rankings:  30108\n"
     ]
    }
   ],
   "source": [
    "# YOUR CODE IN THIS CELL\n",
    "import os\n",
    "import numpy as np\n",
    "import tensorflow as tf\n",
    "from tensorflow.keras import layers\n",
    "\n",
    "X_train = np.array(train_list)\n",
    "y_train = np.array(train_data['tox_score'])\n",
    "\n",
    "# train the model\n",
    "comments_model = tf.keras.Sequential([\n",
    "  layers.Dense(64),\n",
    "  layers.Dense(1)\n",
    "])\n",
    "\n",
    "comments_model.compile(loss = tf.losses.MeanSquaredError(),\n",
    "                      optimizer = tf.optimizers.Adam())\n",
    "\n",
    "# fit the model \n",
    "comments_model.fit(X_train, y_train, epochs=10)\n",
    "\n",
    "y_comments = comments_model.predict(X_comments)\n",
    "    \n",
    "### Evaluate the model ###\n",
    "correct_rankings = 0\n",
    "\n",
    "#copy so dealing with dataframe for more toxic comment is easier\n",
    "valid_data2 = valid_data.copy()\n",
    "\n",
    "# checks number of swear words in a comment\n",
    "for swear in swear_words:\n",
    "    valid_data[swear] = valid_data.less_toxic.str.count(swear)\n",
    "for swear in swear_words:\n",
    "    valid_data2[swear] = valid_data2.more_toxic.str.count(swear)\n",
    "\n",
    "# sums the total number of swear words\n",
    "valid_data['total'] = valid_data.iloc[:, 3:].sum(axis=1)\n",
    "valid_data2['total'] = valid_data2.iloc[:, 3:].sum(axis=1)\n",
    "\n",
    "#checks number of !\n",
    "valid_data['exclaim'] = valid_data.less_toxic.str.count('!')\n",
    "valid_data2['exclaim'] = valid_data2.more_toxic.str.count('!')\n",
    "\n",
    "# prepare the features in the correct format\n",
    "less_toxic_list = valid_data[['total', 'exclaim']].values.tolist()\n",
    "more_toxic_list = valid_data2[['total', 'exclaim']].values.tolist()\n",
    "\n",
    "# predict scores\n",
    "y_less_toxic = regr.predict(less_toxic_list)\n",
    "y_more_toxic = regr.predict(more_toxic_list)\n",
    "\n",
    "# compare\n",
    "correct_rankings = 0\n",
    "for i in range(len(y_less_toxic)):\n",
    "    if  y_more_toxic[i] > y_less_toxic[i]:\n",
    "        correct_rankings = correct_rankings + 1\n",
    "        \n",
    "print(\"Correct Rankings: \", correct_rankings)\n",
    "print(\"Total Rankings: \", len(y_less_toxic))\n",
    "\n",
    "# Train the model\n",
    "# create a Keras layer that uses a TensorFlow Hub model to embed the sentences\n",
    "#embedding = \"https://tfhub.dev/google/nnlm-en-dim50/2\"\n",
    "#hub_layer = hub.KerasLayer(embedding, input_shape=[], dtype=tf.string, trainable=True)\n",
    "#hub_layer(comments['text'][:3])\n",
    "#print(comments['text'][:3])\n",
    "\n",
    "# build the full model\n",
    "#model = tf.keras.Sequential()\n",
    "#model.add(hub_layer)\n",
    "#model.add(tf.keras.layers.Dense(16, activation='relu'))\n",
    "#model.add(tf.keras.layers.Dense(1))\n",
    "#model.summary()\n",
    "\n",
    "# configure the model to use an optimizer and a loss function\n",
    "#model.compile(optimizer='adam',\n",
    "              #loss=tf.keras.losses.BinaryCrossentropy(from_logits=True),\n",
    "              #metrics=['accuracy'])\n",
    "\n",
    "# Fit the model\n",
    "#history = model.fit(train_data.shuffle(10000).batch(512),\n",
    "                    #epochs=10,\n",
    "                    #validation_data=validation_data.batch(512),\n",
    "                    #verbose=1)\n",
    "\n",
    "# Evaluate the model\n",
    "# Two values will be returned:\n",
    "#    Loss (a number which represents our error, lower values are better)\n",
    "#    Accuracy\n",
    "#results = model.evaluate(comments.batch(512), verbose=2)\n",
    "#for name, value in zip(model.metrics_names, results):\n",
    "    #print(\"%s: %.3f\" % (name, value))"
   ]
  },
  {
   "cell_type": "markdown",
   "metadata": {},
   "source": [
    "----\n",
    "## Task: Naive Bayes Classifier   (5 Marks)\n",
    "\n",
    "Build a **Naive Bayes classifier** to identify toxic comments."
   ]
  },
  {
   "cell_type": "code",
   "execution_count": 83,
   "metadata": {},
   "outputs": [
    {
     "name": "stdout",
     "output_type": "stream",
     "text": [
      "[1]\n",
      "[1]\n"
     ]
    }
   ],
   "source": [
    "# EXAMPLE CODE: COMMENT OUT THIS CODE CELL AFTER IMPLEMENTING YOUR CODE BELOW\n",
    "# Code from:  https://scikit-learn.org/stable/modules/naive_bayes.html#gaussian-naive-bayes\n",
    "\n",
    "import numpy as np\n",
    "from sklearn.naive_bayes import GaussianNB\n",
    "\n",
    "X = np.array([[-1, -1], [-2, -1], [-3, -2], [1, 1], [2, 1], [3, 2]])\n",
    "Y = np.array([1, 1, 1, 2, 2, 2])\n",
    "\n",
    "clf = GaussianNB()\n",
    "clf.fit(X, Y)\n",
    "\n",
    "print(clf.predict([[-0.8, -1]]))\n",
    "\n",
    "clf_pf = GaussianNB()\n",
    "clf_pf.partial_fit(X, Y, np.unique(Y))\n",
    "\n",
    "print(clf_pf.predict([[-0.8, -1]]))"
   ]
  },
  {
   "cell_type": "markdown",
   "metadata": {},
   "source": [
    "### Regression (Linear Model)\n",
    "\n",
    "For regression, use a **Linear Regression** model instead of *Naive Bayes*.\\\n",
    "A succinct overview of using a [linear model to detect diabetes](https://scikit-learn.org/stable/auto_examples/linear_model/plot_ols.html#sphx-glr-auto-examples-linear-model-plot-ols-py) provides a good explanation of an end-to-end experimental workflow."
   ]
  },
  {
   "cell_type": "code",
   "execution_count": 84,
   "metadata": {},
   "outputs": [
    {
     "name": "stdout",
     "output_type": "stream",
     "text": [
      "Prediction: [-0.9]\n"
     ]
    }
   ],
   "source": [
    "# EXAMPLE CODE: COMMENT OUT THIS CODE CELL AFTER IMPLEMENTING YOUR CODE BELOW\n",
    "# Code from:  https://scikit-learn.org/stable/modules/linear_model.html\n",
    "\n",
    "from sklearn import linear_model\n",
    "\n",
    "reg = linear_model.LinearRegression()\n",
    "\n",
    "# train the model with data\n",
    "reg.fit([[0, 0], [1, 1], [2, 2]],\n",
    "        [0, 1, 2])\n",
    "\n",
    "# make predictions\n",
    "prediction = reg.predict([[-0.8, -1]])\n",
    "print(\"Prediction:\", prediction)"
   ]
  },
  {
   "cell_type": "markdown",
   "metadata": {},
   "source": [
    "<div class=\"alert alert-danger\">\n",
    "    <h4>WRITE CODE</h4>\n",
    "    In the cell below, write the code that implements a Naive Bayes Classifier.\n",
    "</div>"
   ]
  },
  {
   "cell_type": "code",
   "execution_count": 130,
   "metadata": {},
   "outputs": [
    {
     "name": "stdout",
     "output_type": "stream",
     "text": [
      "Correct Rankings:  7434\n",
      "Total Rankings:  30108\n"
     ]
    }
   ],
   "source": [
    "# YOUR CODE IN THIS CELL\n",
    "from sklearn import linear_model\n",
    "\n",
    "X_train = train_list\n",
    "y_train = train_data['tox_score']\n",
    "# Train the model\n",
    "reg = linear_model.LinearRegression()\n",
    "\n",
    "# Fit the model\n",
    "reg.fit(X_train, y_train)\n",
    "y_comments = reg.predict(X_comments)\n",
    "\n",
    "### Evaluate the model ###\n",
    "correct_rankings = 0\n",
    "\n",
    "#copy so dealing with dataframe for more toxic comment is easier\n",
    "valid_data2 = valid_data.copy()\n",
    "\n",
    "# checks number of swear words in a comment\n",
    "for swear in swear_words:\n",
    "    valid_data[swear] = valid_data.less_toxic.str.count(swear)\n",
    "for swear in swear_words:\n",
    "    valid_data2[swear] = valid_data2.more_toxic.str.count(swear)\n",
    "\n",
    "# sums the total number of swear words\n",
    "valid_data['total'] = valid_data.iloc[:, 3:].sum(axis=1)\n",
    "valid_data2['total'] = valid_data2.iloc[:, 3:].sum(axis=1)\n",
    "\n",
    "#checks number of !\n",
    "valid_data['exclaim'] = valid_data.less_toxic.str.count('!')\n",
    "valid_data2['exclaim'] = valid_data2.more_toxic.str.count('!')\n",
    "\n",
    "# prepare the features in the correct format\n",
    "less_toxic_list = valid_data[['total', 'exclaim']].values.tolist()\n",
    "more_toxic_list = valid_data2[['total', 'exclaim']].values.tolist()\n",
    "\n",
    "# predict scores\n",
    "y_less_toxic = regr.predict(less_toxic_list)\n",
    "y_more_toxic = regr.predict(more_toxic_list)\n",
    "\n",
    "# compare\n",
    "correct_rankings = 0\n",
    "for i in range(len(y_less_toxic)):\n",
    "    if  y_more_toxic[i] > y_less_toxic[i]:\n",
    "        correct_rankings = correct_rankings + 1\n",
    "        \n",
    "print(\"Correct Rankings: \", correct_rankings)\n",
    "print(\"Total Rankings: \", len(y_less_toxic))"
   ]
  },
  {
   "cell_type": "markdown",
   "metadata": {
    "tags": []
   },
   "source": [
    "## Task: Evaluation   (10 Marks)\n",
    "\n",
    "The following classification models are to be evaluated (default parameters can be used in both models):\n",
    "* [Gaussian Naive Bayes classifier](https://scikit-learn.org/stable/modules/naive_bayes.html#gaussian-naive-bayes) \n",
    "* [Decision Tree classifier](https://scikit-learn.org/stable/modules/tree.html#classification)\n",
    "* SVM classifier\n",
    "* Tri-gram Language Model\n",
    "* Neural Network classifier\n",
    "* Random Forest classifier\n",
    "* Ensemble Model classifier\n",
    "\n",
    "Models will be *trained* on the **training data**.\\\n",
    "Models will be *evaluated* on the **test data**.\n",
    "\n",
    "<font color=red>**TBD**.<font color=black> The below is *not* the final evaluation method but the one used in the **Kaggle** competition.\n",
    "\n",
    "<font color=lightgray>\n",
    "\n",
    "The evaluation description for the original **Idenifying Toxic Comments** task needs to be updated.\n",
    "    \n",
    "> Submissions are evaluated on the **mean column-wise ROC AUC**.\\\n",
    "> In other words, the score is the **average of the individual AUCs of each predicted column**.\n",
    "> \n",
    "> **Submission File**\n",
    "> \n",
    "> For each id in the test set, you must predict a probability for each of the six possible types of comment toxicity (*toxic, severetoxic, obscene, threat, insult, identityhate*). The columns must be in the same order as shown below. The file should contain a header and have the following format:\n",
    "> \n",
    "> \t\tid,toxic,severe_toxic,obscene,threat,insult,identity_hate\n",
    "> \t\t00001cee341fdb12,0.5,0.5,0.5,0.5,0.5,0.5\n",
    "> \t\t0000247867823ef7,0.5,0.5,0.5,0.5,0.5,0.5\n",
    "> \t\t...\n",
    "> \t\tetc."
   ]
  },
  {
   "cell_type": "code",
   "execution_count": 87,
   "metadata": {},
   "outputs": [],
   "source": [
    "# EXAMPLE CODE: COMMENT OUT THIS CODE CELL AFTER IMPLEMENTING YOUR CODE BELOW\n",
    "\n",
    "# keep track of how many comment pairs we correctly rank\n",
    "total_correct_comment_pair_rankings = 0\n",
    "\n",
    "# get next pair of comments from validation_data.csv\n",
    "# NOTE: comment1 is from the column corresponding to \"LESS TOXIC\"\n",
    "#       comment2 is from the column corresponding to \"MORE TOXIC\"\n",
    "comment1 = \"Comment from Wikipedia! (less toxic comment)\"\n",
    "comment2 = \"ANOTHER Comment from Wikipedia! Swear word: bA$$ (more toxic comment)\"\n",
    "\n",
    "# convert the comment's text into a feature vector e.g., [0, 0, 2.51, 1, ...]\n",
    "comment1_features = extract_features(comment1)\n",
    "comment2_features = extract_features(comment2)\n",
    "\n",
    "# compute the toxicity score of each comment\n",
    "toxicicity_score_of_comment1 = some_model.predict(comment1_features)\n",
    "toxicicity_score_of_comment2 = some_model.predict(comment2_features)\n",
    "\n",
    "if toxicicity_score_of_comment2 > toxicicity_score_of_comment1:\n",
    "    total_correct_comment_pair_rankings = total_correct_comment_pair_rankings + 1"
   ]
  },
  {
   "cell_type": "markdown",
   "metadata": {},
   "source": [
    "<div class=\"alert alert-danger\">\n",
    "    <h4>WRITE CODE</h4>\n",
    "    In the cell below, write the code for evaluating a model.\n",
    "</div>"
   ]
  },
  {
   "cell_type": "code",
   "execution_count": 88,
   "metadata": {},
   "outputs": [
    {
     "name": "stdout",
     "output_type": "stream",
     "text": [
      "Evaluation sections was implemented at the end of each model\n",
      "Check individual models for each evaluation\n"
     ]
    }
   ],
   "source": [
    "# YOUR CODE IN THIS CELL\n",
    "print('Evaluation sections was implemented at the end of each model')\n",
    "print('Check individual models for each evaluation')"
   ]
  },
  {
   "cell_type": "markdown",
   "metadata": {
    "tags": []
   },
   "source": [
    "----\n",
    "# Task: Project Report   \n",
    "\n",
    "The total marks for all of the sections below is **80 Marks**.\n",
    "\n",
    "This section corresponds to the write-up of the project. Your write-up is to be included within this **Jupyter Notebook** below (the code for this assignment is in the code cells above).\\\n",
    "The **Project Report** will consist of a few sections that each discuss a different stage of the end-to-end experiment."
   ]
  },
  {
   "cell_type": "markdown",
   "metadata": {
    "tags": []
   },
   "source": [
    "## Overview    (10 Marks)\n",
    "\n",
    "Discuss:\n",
    "* the problem/task you are addressing\n",
    "* provide concrete examples of the problem\n",
    "* why the problem is worth the time and effort trying to solve\n",
    "* compare the task with other tasks that are similar\n",
    "\n",
    "The following are optional:\n",
    "* *Related Work* i.e., what have other people tried\n",
    "* historical background of the problem\n",
    "* discuss strategies used in other tasks that are similar to **Toxic Comment Identification**\n",
    "* discuss the differences with those tasks that are similar to **Toxic Comment Identification**"
   ]
  },
  {
   "cell_type": "markdown",
   "metadata": {
    "tags": []
   },
   "source": [
    "## Dataset    (10 Marks)\n",
    "\n",
    "Discuss:\n",
    "* the dataset's size\n",
    "* languages dataset contains\n",
    "* anything unusual about the data\n",
    "* how representative the dataset is of everyday communication\n",
    "* etc."
   ]
  },
  {
   "cell_type": "markdown",
   "metadata": {
    "tags": []
   },
   "source": [
    "## Features    (10 Marks)\n",
    "\n",
    "Discuss:\n",
    "* the features that were extracted\n",
    "* the number of features"
   ]
  },
  {
   "cell_type": "markdown",
   "metadata": {
    "tags": []
   },
   "source": [
    "## Models    (10 Marks)\n",
    "\n",
    "Discuss:\n",
    "* the models used\n",
    "* any specific parameters, configuration, or settings of each model\n",
    "* any differences in how each model was trained"
   ]
  },
  {
   "cell_type": "markdown",
   "metadata": {
    "tags": []
   },
   "source": [
    "## Evaluation    (10 Marks)\n",
    "\n",
    "This section discusses:\n",
    "* how you evaluated the models in order to compare their relative performance\n",
    "* evaluating models based on *overall performance*\n",
    "* evaluating models based on their performance on *individual comment types* i.e., which model was best at detecting the comment type **identityhate**?\n",
    "* use visuals, tables, charts, graphs, etc. to communicate results"
   ]
  },
  {
   "cell_type": "markdown",
   "metadata": {
    "tags": []
   },
   "source": [
    "## Discussion    (30 Marks)\n",
    " \n",
    "Compare the performance of the above models on **Identifying Toxic Comments**.\\\n",
    "Use visuals, charts, graphs, etc. to communicate your results.\n",
    "\n",
    "Discuss:\n",
    "* your findings in general\n",
    "* compare the performance of the various models (was the performance what you expected?)\n",
    "* which system performed best? why?\n",
    "* which system had the worst performance? why?\n",
    "* discuss the reasons which lead to the results from the evaluation\n",
    "* provide some ideas you would like to have tried (provided you had more time or resources) that could potentially improve the performance of the models or a question that you were interested in exploring (i.e., *Future Work*)"
   ]
  },
  {
   "cell_type": "markdown",
   "metadata": {
    "tags": []
   },
   "source": [
    "### Plotting & Visualizations\n",
    "\n",
    "Examples of various plots and visualizations."
   ]
  },
  {
   "cell_type": "code",
   "execution_count": 159,
   "metadata": {},
   "outputs": [
    {
     "data": {
      "image/png": "[encoded data removed]",
      "text/plain": [
       "<Figure size 432x288 with 1 Axes>"
      ]
     },
     "metadata": {
      "needs_background": "light"
     },
     "output_type": "display_data"
    }
   ],
   "source": [
    "# EXAMPLE CODE: COMMENT OUT THIS CODE CELL AFTER IMPLEMENTING YOUR CODE BELOW\n",
    "\n",
    "import seaborn\n",
    "import matplotlib.pyplot as plt\n",
    "import scipy.stats\n",
    "from scipy import stats\n",
    "\n",
    "correct = [12998,11226,9311,8332,9311,7434]\n",
    "models = ['Decision Trees','SVM','RF', 'Voting Emsemble', 'NN', 'Naive Bayes']\n",
    "\n",
    "plt.plot(models, correct, 'b.')\n",
    "plt.xlabel('Model')\n",
    "plt.ylabel('Number of Comments Ranked Correctly')\n",
    "plt.title('Correct Comments vs Model')\n",
    "plt.show()\n",
    "\n",
    "# Load example miles per gallon dataset\n",
    "#mpg = seaborn.load_dataset(\"mpg\")\n",
    "# Plot miles per gallon against horsepower\n",
    "#seaborn.relplot(x=\"horsepower\", y=\"mpg\", hue=\"origin\", size=\"weight\", sizes=(40, 400), alpha=0.4, data=mpg)"
   ]
  },
  {
   "cell_type": "markdown",
   "metadata": {},
   "source": [
    "<div class=\"alert alert-danger\">\n",
    "    <h1>YOUR PROJECT REPORT BEGINS BELOW THIS CELL</h1>\n",
    "</div>"
   ]
  },
  {
   "cell_type": "markdown",
   "metadata": {},
   "source": [
    "**INFORMATION**\\\n",
    "Student Name: Diana Stephanie Wong\\\n",
    "Student ID: 301373179\\\n",
    "Student SFU Email: dwa102@sfu.ca\n",
    "\n",
    "# Overview\n",
    "\n",
    "   The problem that we are trying to address is predicting how toxic a comment is relative to another comment. Toxic comments are define as comments that are negative, include inappropriate language, discrimination, or other types of hateful behaviour. In this analysis, we give each comment a score that represents its toxicity and the higher the value, the more toxic a comment is deemed to be. For example, if we have two comments, one being \"you are bad\" and the other being \"YOU SUCK!!! QUIT THE GAME!!\", the latter should be given a higher toxicity score. So if we were to give those comments as input to our models, the score of the first should be lower than the second and when we evaluate the model, it should show that the second comment is more toxic. \n",
    "   \n",
    "   This is a worthwhile problem because it can be applied to many online spaces such as video game lobbies, Twitter posts, and comments on videos. Since all those spaces have users that can create toxic comments, having a method for identifying more toxic comments would be beneficial and ensure that those environments feel safe to all users. Since 83% of adults have experienced negative interactions in online games, a method for finding the toxicity of comments can help developers better moderate those enviroments. There have been previous attempts to solve similiar tasks. One example is the Kaggle competition to classify toxic comments into categories such as comments that included insults, threats, and so on. While being able to determine the type of toxic behaviour is benefical, extending that into giving each comment a toxicity score can help us better compare and rank comments. Being able to see the relative severity of each comment in a numerical way can help us determine which comments are more toxic and those can result in more severe consquences for the users, while the ones who made comments with lower scores can recieve warnings or milder punishments."
   ]
  },
  {
   "cell_type": "markdown",
   "metadata": {},
   "source": [
    "# Dataset\n",
    "\n",
    "There were 3 datasets that were used in this analysis. The first was called 'train.csv' and it taken from an old Kaggle competition where the goal was to classify comments into different categories such as threats, insults, etc. The dataset contains 159571 comments and they were written in English. Along with the comment text, a one (if the comment was classified as part of that category) or a zero (if it was not part of that category) were given to each of these categories: toxic, severe toxic, obscene, threat, insult, and identity hate. This data was used to train the models by giving each comment a toxicity score based on which type toxic language was present. The dataset contains 159571 comments and they were written in English. The dataset does not completely represent everyday language used in in-person interactions, but it respresents online communications fairly well. For examples, many of the comments were mundane comments and suggestions that could be observed in the comments sections of blogs and so on. There were also more toxic ones that were likely to be seen online since the web provides commenters with more anonymity so they use bolder language. \n",
    "\n",
    "The second dataset was called 'comments_to_score.csv' and it made up of comments that were given to the trained models so those comments were given toxicity scores. The dataset was made up of 7537 comments which were in English. The majority of the comments seemed to represent everyday online interactions fairly well, but some has large amounts of repeated text, formulas, and bits of other languages (non-English character).\n",
    "\n",
    "The third dataset was called 'validation_data.csv' and it contained a pair of comments, one that was deemed more toxic and one that was less toxic. The dataset contained 30108 pairs of comments (a total of 60216 comments) and they were in English. They also seemed to represent online communications fairly well and the comments that were rated more toxic appeared to have more toxic language."
   ]
  },
  {
   "cell_type": "markdown",
   "metadata": {},
   "source": [
    "# Features\n",
    "\n",
    "During my first attempt at extracting the features I decided to create a list of swear words and then go through the dataset and count the number of swear words in each comment. At first I simply checked if there was a swear word in the comment, but later I modified the code so that it counted all the occurences. I chose this feature because the more swear words, the more toxic a comment should be rated. \n",
    "\n",
    "The second feature I extracted was the number of exclamation marks in a comment. This feature was included because usually the more exclamation marks there are in a comment, the more likely it is that the person was frustrated or angry. Due to time constraints, I started with extracting 2 features and planned on added more to optimize the models as more progress was made.\n",
    "\n",
    "All the features could be extended so they determine the ratio of swear words or negative words compared to the length of the text. By finding the ratio, we can see comments that are almost entirely made of vulgur language as opposed to those that contain more regular words. Those with a higher ratio would get higher toxic scores. To get the ratio we could need to count swear or negative words in a sentence then divide by the total number of words in that text.\n",
    "\n",
    "There are many more potential features that can be added to improve the performance of the model. Adding a feature that counts the number of negative words in a comment would likely improve the models. To get negative words, we could import a dataset containing negative words and use those to count the number of times they appear in each comment.\n",
    "\n",
    "Another feature could be counting the number of times a race, religion, ethnicity, or sexual orientation were mentioned in a comment. Idealy we could also check if those comments also contained negative speech and then assign a higher toxicity score if both are included.\n"
   ]
  },
  {
   "cell_type": "markdown",
   "metadata": {},
   "source": [
    "# Models\n",
    "\n",
    "Discuss:\n",
    "* the models used\n",
    "* any specific parameters, configuration, or settings of each model\n",
    "* any differences in how each model was trained\n",
    "\n",
    "### Decision Tree regression\n",
    "I chose to do use a Decision Tree Regression model because it would likely give more accurate results than a classifier. I tested the Decision Tree Classifier as well and it took a similiar amount of time so I went with the regression. This model was given the training data features as extracted previously as well as the toxicity score calculated for the training model. The default settings were kept for the model and after it was trained it was applied to the comments that needed to be scored.\n",
    "\n",
    "### SVM regression\n",
    "Similarly for the I used a regression for the SVM model. The default settings were used for this model. In addition, this took a long time to load when the full data was given so instead of training it will all the data, the training data given to this model was reduced which may make results worse. \n",
    "\n",
    "### Random Forest regression\n",
    "A regression model was used for this model. The following parameters were usef for this model: max_depth=2, random_state=0, n_estimators=4.\n",
    "\n",
    "### Tri-gram Language Model\n",
    "Due to time constrains and the fact that the loops took a long time to load, this model did not produce results. To get the probabilities of the sentences being toxic, we would have used the probabilies of the trigrams occuring as used from training and we would have added the probabilies whenever a trigram was found in the comment we were scoring.\n",
    "\n",
    "### Neural Network regression\n",
    "For this model the following was used to train the model tf.keras.Sequential([\n",
    " layers.Dense(64),\n",
    "  layers.Dense(1)\n",
    "]). Additionally 10 epochs were used for this regression model.\n",
    "\n",
    "\n",
    "### Ensemble Model regression\n",
    "For this regression model the following regression models were used:\n",
    "GradientBoostingRegressor(random_state=1), \n",
    "RandomForestRegressor(random_state=1), \n",
    "LinearRegression().\n"
   ]
  },
  {
   "cell_type": "markdown",
   "metadata": {},
   "source": [
    "# Evaluation\n",
    "\n",
    "I evaluated the models using the same process. The two comments were put into the models and given a score. If the score of the more_toxic comment was higher, I incremented the amount of correctly ranked comments by one. The number of correctly ranked comments is given in a figure below for all the models. The overall performance was mainly based on the number of correctly ranked comments, with the amount of time it took to train also being taken into consideration. The models were not evaluated based on individual comments and in future work that will be something that should be explored."
   ]
  },
  {
   "cell_type": "markdown",
   "metadata": {},
   "source": [
    "# Conclusion \n",
    "\n",
    "After extracting all the features used, the same training data was given to all the models excluding the neural network regressor and the n-gram language model. In terms of time the SVM and the Neural Network performed poorer thant the other models because they were significantly slower. The SVM in particular took the most time and in order to have enough time to run the rest of the analysis, I decided to restrict the amount of data used to train it. I also attempted to used the classifier for SVM instead of regression, however; that did not improve the time by a noticeable amount. I did not expect the SVM to take that much longer to run so that was suprising. The decision trees, random forest, voting emsemble, and naive bayes all had reasonable running times so their performance in that respect was good. Moving on to the performance of each model in regards to how many comments they ranked correctly when they ran the validation data, the Decision Tree has the best performance with 12998 of the 30108 comments being ranked correctly. The worst peformance was by the Naive Bayes model which only ranked 7434 of the 30108 comments being ranked correctly. The results of the other models are plotted in the figure below. Most did not do very well, the only one getting close to the performance of the Decision Tree was the SVM. So for overall performance the Decision tree was the best as it ranked the most correctly and it took a reasonable amount of time to train the data. While the SVM and Neural Network took longer their performance in ranking was ok so the are not the worst overall. The worst over all was the Naive Bayes because of its very low values for correctly predicting which comment more toxic. More features would be needed to better decide which model will provide the best performance.\n",
    "\n",
    "The main reason why the number of correctly ranked comment is so low is due to the fact that in the evaluation of how many comments were ranked correctly, if the comments were given the same score, the number of correctly ranked comments would not go up. Since the features I extracted were very basic, only 2 features were used, many comments were given the same score. To test this, I tried incrementing the number of correctly ranked comments if the value of the more_toxic comment was greater than or equal to the less_toxic comment and the number of correct comments increased significantly (to about 20000 of the 30108 comments). To improve the performance of all the models, the number of features used should be increased and modified so it takes more variables into account. This should be down in future work. Along with implementing more features, in future work I would like to change more of the parameters and see how the models are effected and also provide the SVM model with the full set of data.\n"
   ]
  },
  {
   "cell_type": "code",
   "execution_count": 160,
   "metadata": {},
   "outputs": [
    {
     "data": {
      "image/png": "[encoded data removed]",
      "text/plain": [
       "<Figure size 432x288 with 1 Axes>"
      ]
     },
     "metadata": {
      "needs_background": "light"
     },
     "output_type": "display_data"
    }
   ],
   "source": [
    "plt.plot(models, correct, 'b.')\n",
    "plt.xlabel('Model')\n",
    "plt.ylabel('Number of Comments Ranked Correctly')\n",
    "plt.title('Correct Comments vs Model')\n",
    "plt.show()"
   ]
  },
  {
   "cell_type": "code",
   "execution_count": null,
   "metadata": {},
   "outputs": [],
   "source": []
  }
 ],
 "metadata": {
  "kernelspec": {
   "display_name": "Python 3",
   "language": "python",
   "name": "python3"
  },
  "language_info": {
   "codemirror_mode": {
    "name": "ipython",
    "version": 3
   },
   "file_extension": ".py",
   "mimetype": "text/x-python",
   "name": "python",
   "nbconvert_exporter": "python",
   "pygments_lexer": "ipython3",
   "version": "3.7.4"
  }
 },
 "nbformat": 4,
 "nbformat_minor": 5
}
